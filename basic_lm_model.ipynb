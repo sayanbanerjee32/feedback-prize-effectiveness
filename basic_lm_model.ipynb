{
  "nbformat": 4,
  "nbformat_minor": 0,
  "metadata": {
    "colab": {
      "name": "basic_lm_model.ipynb",
      "provenance": [],
      "collapsed_sections": [],
      "authorship_tag": "ABX9TyNIvMuvfk5CoXJfBLjOkIer",
      "include_colab_link": true
    },
    "kernelspec": {
      "name": "python3",
      "display_name": "Python 3"
    },
    "language_info": {
      "name": "python"
    },
    "accelerator": "GPU",
    "gpuClass": "standard"
  },
  "cells": [
    {
      "cell_type": "markdown",
      "metadata": {
        "id": "view-in-github",
        "colab_type": "text"
      },
      "source": [
        "<a href=\"https://colab.research.google.com/github/sayanbanerjee32/feedback-prize-effectiveness/blob/main/basic_lm_model.ipynb\" target=\"_parent\"><img src=\"https://colab.research.google.com/assets/colab-badge.svg\" alt=\"Open In Colab\"/></a>"
      ]
    },
    {
      "cell_type": "code",
      "execution_count": null,
      "metadata": {
        "colab": {
          "base_uri": "https://localhost:8080/"
        },
        "id": "vAwrF3S24Hzn",
        "outputId": "e377019b-fc86-48bd-f038-80e4222d931c"
      },
      "outputs": [
        {
          "output_type": "stream",
          "name": "stdout",
          "text": [
            "\u001b[?25l\r\u001b[K     |███████                         | 10 kB 27.7 MB/s eta 0:00:01\r\u001b[K     |██████████████                  | 20 kB 33.0 MB/s eta 0:00:01\r\u001b[K     |█████████████████████           | 30 kB 24.4 MB/s eta 0:00:01\r\u001b[K     |████████████████████████████    | 40 kB 13.5 MB/s eta 0:00:01\r\u001b[K     |████████████████████████████████| 46 kB 4.1 MB/s \n",
            "\u001b[?25h"
          ]
        }
      ],
      "source": [
        "# install fastkaggle if not available\n",
        "!pip install -Uq fastai\n",
        "try: import fastkaggle\n",
        "except ModuleNotFoundError:\n",
        "    !pip install -Uq fastkaggle\n",
        "\n",
        "# !pip install -Uq 'timm>=0.6.2.dev'\n",
        "!pip install -Uq pynvml\n",
        "from fastkaggle import *"
      ]
    },
    {
      "cell_type": "code",
      "source": [
        "import fastai\n",
        "fastai.__version__"
      ],
      "metadata": {
        "colab": {
          "base_uri": "https://localhost:8080/",
          "height": 36
        },
        "id": "J0E4FZde4QB3",
        "outputId": "4b625b01-97f1-4f23-e8de-3fccf3593661"
      },
      "execution_count": null,
      "outputs": [
        {
          "output_type": "execute_result",
          "data": {
            "text/plain": [
              "'2.7.7'"
            ],
            "application/vnd.google.colaboratory.intrinsic+json": {
              "type": "string"
            }
          },
          "metadata": {},
          "execution_count": 2
        }
      ]
    },
    {
      "cell_type": "code",
      "source": [
        "# config depending on whether this is running on kaggle or collab\n",
        "is_colab = True\n",
        "comp = 'feedback-prize-effectiveness'\n",
        "if is_colab:\n",
        "    model_save_path = Path('/content/'+comp+'/models')\n",
        "else:\n",
        "    model_save_path = Path('/kaggle/working/'+comp+'/models')"
      ],
      "metadata": {
        "id": "LwaMmLpipyJd"
      },
      "execution_count": null,
      "outputs": []
    },
    {
      "cell_type": "code",
      "source": [
        "# import colab libraries\n",
        "if is_colab:\n",
        "    from google.colab import drive\n",
        "    drive.mount('/content/drive')"
      ],
      "metadata": {
        "colab": {
          "base_uri": "https://localhost:8080/"
        },
        "id": "UOjHaaj64SAU",
        "outputId": "ef0b2a51-7343-41ce-e5e9-c9fab980deea"
      },
      "execution_count": null,
      "outputs": [
        {
          "output_type": "stream",
          "name": "stdout",
          "text": [
            "Mounted at /content/drive\n"
          ]
        }
      ]
    },
    {
      "cell_type": "code",
      "source": [
        "# The Kaggle API client expects this file to be in ~/.kaggle,\n",
        "# so lets move it there.\n",
        "if is_colab:\n",
        "    !mkdir ~/.kaggle\n",
        "    !cp /content/drive/MyDrive/Kaggle_api_auth/kaggle.json ~/.kaggle/"
      ],
      "metadata": {
        "id": "Rv1FT2oS4X_3"
      },
      "execution_count": null,
      "outputs": []
    },
    {
      "cell_type": "code",
      "source": [
        "# This permissions change avoids a warning on Kaggle tool startup.\n",
        "if is_colab:\n",
        "    !chmod 600 ~/.kaggle/kaggle.json"
      ],
      "metadata": {
        "id": "SM6uBIQ34eqk"
      },
      "execution_count": null,
      "outputs": []
    },
    {
      "cell_type": "code",
      "source": [
        "path = setup_comp(comp)\n",
        "path"
      ],
      "metadata": {
        "id": "Ikwoyt764icQ"
      },
      "execution_count": null,
      "outputs": []
    },
    {
      "cell_type": "code",
      "source": [
        "from fastai.text.all import *\n",
        "set_seed(32)"
      ],
      "metadata": {
        "id": "Xihu0wcU4sSD"
      },
      "execution_count": null,
      "outputs": []
    },
    {
      "cell_type": "markdown",
      "source": [
        "## Language model for original text"
      ],
      "metadata": {
        "id": "zigZQFGkStlv"
      }
    },
    {
      "cell_type": "code",
      "source": [
        "dls_lm = TextDataLoaders.from_folder(path / 'train', is_lm=True, valid_pct=0.1)\n",
        "dls_lm.show_batch(max_n=5)"
      ],
      "metadata": {
        "colab": {
          "base_uri": "https://localhost:8080/",
          "height": 536
        },
        "id": "mp9oSroFS1Ub",
        "outputId": "004b4613-e7c7-45c0-9a45-f2ee995cb7b4"
      },
      "execution_count": null,
      "outputs": [
        {
          "output_type": "display_data",
          "data": {
            "text/plain": [
              "<IPython.core.display.HTML object>"
            ],
            "text/html": [
              "\n",
              "<style>\n",
              "    /* Turns off some styling */\n",
              "    progress {\n",
              "        /* gets rid of default border in Firefox and Opera. */\n",
              "        border: none;\n",
              "        /* Needs to be in here for Safari polyfill so background images work as expected. */\n",
              "        background-size: auto;\n",
              "    }\n",
              "    .progress-bar-interrupted, .progress-bar-interrupted::-webkit-progress-bar {\n",
              "        background: #F44336;\n",
              "    }\n",
              "</style>\n"
            ]
          },
          "metadata": {}
        },
        {
          "output_type": "display_data",
          "data": {
            "text/plain": [
              "<IPython.core.display.HTML object>"
            ],
            "text/html": [
              ""
            ]
          },
          "metadata": {}
        },
        {
          "output_type": "display_data",
          "data": {
            "text/plain": [
              "<IPython.core.display.HTML object>"
            ],
            "text/html": [
              "<table border=\"1\" class=\"dataframe\">\n",
              "  <thead>\n",
              "    <tr style=\"text-align: right;\">\n",
              "      <th></th>\n",
              "      <th>text</th>\n",
              "      <th>text_</th>\n",
              "    </tr>\n",
              "  </thead>\n",
              "  <tbody>\n",
              "    <tr>\n",
              "      <th>0</th>\n",
              "      <td>xxbos xxmaj dear xxmaj senator , \\n\\n xxmaj we should be changing to the election by popular vote for the president of the xxmaj united xxmaj states . xxmaj everyone should just vote for the vice president and the president . xxmaj people are voting for the xxmaj electoral college while they should be voting to see who will be their new president . xxmaj the electoral college is getting more votes</td>\n",
              "      <td>xxmaj dear xxmaj senator , \\n\\n xxmaj we should be changing to the election by popular vote for the president of the xxmaj united xxmaj states . xxmaj everyone should just vote for the vice president and the president . xxmaj people are voting for the xxmaj electoral college while they should be voting to see who will be their new president . xxmaj the electoral college is getting more votes than</td>\n",
              "    </tr>\n",
              "    <tr>\n",
              "      <th>1</th>\n",
              "      <td>staff that focus mostly on students learning the course material at their own pace . xxmaj take generic_school 's xxup vision program for example . xxup vision offers xxup xxunk as well as non - xxunk students many different courses from xxmaj english and math , to economics and personal finance . xxmaj if home schooled   students could join some of these courses , there will definitely be many benefits for</td>\n",
              "      <td>that focus mostly on students learning the course material at their own pace . xxmaj take generic_school 's xxup vision program for example . xxup vision offers xxup xxunk as well as non - xxunk students many different courses from xxmaj english and math , to economics and personal finance . xxmaj if home schooled   students could join some of these courses , there will definitely be many benefits for both</td>\n",
              "    </tr>\n",
              "    <tr>\n",
              "      <th>2</th>\n",
              "      <td>sad or upset . xxmaj the computer can help a teacher / adult to understand when a student is in need of a talk or needs to express their emotions . xxmaj this is also very valuable because it could potentially save a life in bad situations . xxmaj the computer facial coding system is valuable in my opinion for various reasons as you may see in this essay . \\n\\n xxmaj</td>\n",
              "      <td>or upset . xxmaj the computer can help a teacher / adult to understand when a student is in need of a talk or needs to express their emotions . xxmaj this is also very valuable because it could potentially save a life in bad situations . xxmaj the computer facial coding system is valuable in my opinion for various reasons as you may see in this essay . \\n\\n xxmaj this</td>\n",
              "    </tr>\n",
              "    <tr>\n",
              "      <th>3</th>\n",
              "      <td>in car accidents from driving and texting . \\n\\n xxmaj my friends was in a accident because he was texting and driving . xxmaj its no joke he almost lost he life and his xxunk too . xxmaj texting and driving is awful . \\n\\n xxmaj so if you love your life and who you where with you wo n't text and drive . xxmaj in over 30 states its illegal to</td>\n",
              "      <td>car accidents from driving and texting . \\n\\n xxmaj my friends was in a accident because he was texting and driving . xxmaj its no joke he almost lost he life and his xxunk too . xxmaj texting and driving is awful . \\n\\n xxmaj so if you love your life and who you where with you wo n't text and drive . xxmaj in over 30 states its illegal to text</td>\n",
              "    </tr>\n",
              "    <tr>\n",
              "      <th>4</th>\n",
              "      <td>the article mentions that cameras might be needed to ensure people pay attention to the road . xxmaj there are already enough distractions for drivers to worry about . xxmaj texting and driving has become a major issue in recent years . xxmaj imagine how easy it would be to be distracted by a phone or other device if the car you were in were driving itself ? xxmaj this is a</td>\n",
              "      <td>article mentions that cameras might be needed to ensure people pay attention to the road . xxmaj there are already enough distractions for drivers to worry about . xxmaj texting and driving has become a major issue in recent years . xxmaj imagine how easy it would be to be distracted by a phone or other device if the car you were in were driving itself ? xxmaj this is a slippery</td>\n",
              "    </tr>\n",
              "  </tbody>\n",
              "</table>"
            ]
          },
          "metadata": {}
        }
      ]
    },
    {
      "cell_type": "code",
      "source": [
        "learn_lm = language_model_learner(dls_lm, AWD_LSTM, metrics=[accuracy, Perplexity()], path=path, wd=0.1).to_fp16()"
      ],
      "metadata": {
        "colab": {
          "base_uri": "https://localhost:8080/",
          "height": 37
        },
        "id": "3bcGSEuCTRrk",
        "outputId": "8cf6b1be-00e7-4899-b9aa-8f2a20dd7775"
      },
      "execution_count": null,
      "outputs": [
        {
          "output_type": "display_data",
          "data": {
            "text/plain": [
              "<IPython.core.display.HTML object>"
            ],
            "text/html": [
              "\n",
              "<style>\n",
              "    /* Turns off some styling */\n",
              "    progress {\n",
              "        /* gets rid of default border in Firefox and Opera. */\n",
              "        border: none;\n",
              "        /* Needs to be in here for Safari polyfill so background images work as expected. */\n",
              "        background-size: auto;\n",
              "    }\n",
              "    .progress-bar-interrupted, .progress-bar-interrupted::-webkit-progress-bar {\n",
              "        background: #F44336;\n",
              "    }\n",
              "</style>\n"
            ]
          },
          "metadata": {}
        },
        {
          "output_type": "display_data",
          "data": {
            "text/plain": [
              "<IPython.core.display.HTML object>"
            ],
            "text/html": [
              "\n",
              "    <div>\n",
              "      <progress value='105070592' class='' max='105067061' style='width:300px; height:20px; vertical-align: middle;'></progress>\n",
              "      100.00% [105070592/105067061 00:03<00:00]\n",
              "    </div>\n",
              "    "
            ]
          },
          "metadata": {}
        }
      ]
    },
    {
      "cell_type": "code",
      "source": [
        "learn_lm.fit_one_cycle(1, 1e-2)"
      ],
      "metadata": {
        "colab": {
          "base_uri": "https://localhost:8080/",
          "height": 81
        },
        "id": "ohXZDqkFTYrm",
        "outputId": "e4cf1f99-bb94-4943-f32a-118ababc3929"
      },
      "execution_count": null,
      "outputs": [
        {
          "output_type": "display_data",
          "data": {
            "text/plain": [
              "<IPython.core.display.HTML object>"
            ],
            "text/html": [
              "\n",
              "<style>\n",
              "    /* Turns off some styling */\n",
              "    progress {\n",
              "        /* gets rid of default border in Firefox and Opera. */\n",
              "        border: none;\n",
              "        /* Needs to be in here for Safari polyfill so background images work as expected. */\n",
              "        background-size: auto;\n",
              "    }\n",
              "    .progress-bar-interrupted, .progress-bar-interrupted::-webkit-progress-bar {\n",
              "        background: #F44336;\n",
              "    }\n",
              "</style>\n"
            ]
          },
          "metadata": {}
        },
        {
          "output_type": "display_data",
          "data": {
            "text/plain": [
              "<IPython.core.display.HTML object>"
            ],
            "text/html": [
              "<table border=\"1\" class=\"dataframe\">\n",
              "  <thead>\n",
              "    <tr style=\"text-align: left;\">\n",
              "      <th>epoch</th>\n",
              "      <th>train_loss</th>\n",
              "      <th>valid_loss</th>\n",
              "      <th>accuracy</th>\n",
              "      <th>perplexity</th>\n",
              "      <th>time</th>\n",
              "    </tr>\n",
              "  </thead>\n",
              "  <tbody>\n",
              "    <tr>\n",
              "      <td>0</td>\n",
              "      <td>3.761075</td>\n",
              "      <td>3.434725</td>\n",
              "      <td>0.325304</td>\n",
              "      <td>31.022888</td>\n",
              "      <td>01:30</td>\n",
              "    </tr>\n",
              "  </tbody>\n",
              "</table>"
            ]
          },
          "metadata": {}
        }
      ]
    },
    {
      "cell_type": "code",
      "source": [
        "learn_lm.unfreeze()\n",
        "learn_lm.fit_one_cycle(10, 1e-3)"
      ],
      "metadata": {
        "colab": {
          "base_uri": "https://localhost:8080/",
          "height": 363
        },
        "id": "KE1k8a1xTgNG",
        "outputId": "b47b2912-0822-46c4-869d-e390d0f72b97"
      },
      "execution_count": null,
      "outputs": [
        {
          "output_type": "display_data",
          "data": {
            "text/plain": [
              "<IPython.core.display.HTML object>"
            ],
            "text/html": [
              "\n",
              "<style>\n",
              "    /* Turns off some styling */\n",
              "    progress {\n",
              "        /* gets rid of default border in Firefox and Opera. */\n",
              "        border: none;\n",
              "        /* Needs to be in here for Safari polyfill so background images work as expected. */\n",
              "        background-size: auto;\n",
              "    }\n",
              "    .progress-bar-interrupted, .progress-bar-interrupted::-webkit-progress-bar {\n",
              "        background: #F44336;\n",
              "    }\n",
              "</style>\n"
            ]
          },
          "metadata": {}
        },
        {
          "output_type": "display_data",
          "data": {
            "text/plain": [
              "<IPython.core.display.HTML object>"
            ],
            "text/html": [
              "<table border=\"1\" class=\"dataframe\">\n",
              "  <thead>\n",
              "    <tr style=\"text-align: left;\">\n",
              "      <th>epoch</th>\n",
              "      <th>train_loss</th>\n",
              "      <th>valid_loss</th>\n",
              "      <th>accuracy</th>\n",
              "      <th>perplexity</th>\n",
              "      <th>time</th>\n",
              "    </tr>\n",
              "  </thead>\n",
              "  <tbody>\n",
              "    <tr>\n",
              "      <td>0</td>\n",
              "      <td>3.536679</td>\n",
              "      <td>3.320854</td>\n",
              "      <td>0.342587</td>\n",
              "      <td>27.683989</td>\n",
              "      <td>01:34</td>\n",
              "    </tr>\n",
              "    <tr>\n",
              "      <td>1</td>\n",
              "      <td>3.405760</td>\n",
              "      <td>3.223232</td>\n",
              "      <td>0.360429</td>\n",
              "      <td>25.109131</td>\n",
              "      <td>01:34</td>\n",
              "    </tr>\n",
              "    <tr>\n",
              "      <td>2</td>\n",
              "      <td>3.278480</td>\n",
              "      <td>3.141706</td>\n",
              "      <td>0.373064</td>\n",
              "      <td>23.143316</td>\n",
              "      <td>01:34</td>\n",
              "    </tr>\n",
              "    <tr>\n",
              "      <td>3</td>\n",
              "      <td>3.175086</td>\n",
              "      <td>3.091677</td>\n",
              "      <td>0.379439</td>\n",
              "      <td>22.013969</td>\n",
              "      <td>01:34</td>\n",
              "    </tr>\n",
              "    <tr>\n",
              "      <td>4</td>\n",
              "      <td>3.061083</td>\n",
              "      <td>3.052163</td>\n",
              "      <td>0.387028</td>\n",
              "      <td>21.161070</td>\n",
              "      <td>01:34</td>\n",
              "    </tr>\n",
              "    <tr>\n",
              "      <td>5</td>\n",
              "      <td>2.982667</td>\n",
              "      <td>3.024457</td>\n",
              "      <td>0.391141</td>\n",
              "      <td>20.582819</td>\n",
              "      <td>01:34</td>\n",
              "    </tr>\n",
              "    <tr>\n",
              "      <td>6</td>\n",
              "      <td>2.930097</td>\n",
              "      <td>3.013953</td>\n",
              "      <td>0.393328</td>\n",
              "      <td>20.367764</td>\n",
              "      <td>01:34</td>\n",
              "    </tr>\n",
              "    <tr>\n",
              "      <td>7</td>\n",
              "      <td>2.893255</td>\n",
              "      <td>2.998582</td>\n",
              "      <td>0.395244</td>\n",
              "      <td>20.057074</td>\n",
              "      <td>01:34</td>\n",
              "    </tr>\n",
              "    <tr>\n",
              "      <td>8</td>\n",
              "      <td>2.828343</td>\n",
              "      <td>2.995264</td>\n",
              "      <td>0.395900</td>\n",
              "      <td>19.990633</td>\n",
              "      <td>01:34</td>\n",
              "    </tr>\n",
              "    <tr>\n",
              "      <td>9</td>\n",
              "      <td>2.803145</td>\n",
              "      <td>2.996284</td>\n",
              "      <td>0.395720</td>\n",
              "      <td>20.011032</td>\n",
              "      <td>01:45</td>\n",
              "    </tr>\n",
              "  </tbody>\n",
              "</table>"
            ]
          },
          "metadata": {}
        }
      ]
    },
    {
      "cell_type": "code",
      "source": [
        "model_save_path.mkdir(parents=True, exist_ok=True)\n",
        "learn_lm.save_encoder(model_save_path / 'finetuned')"
      ],
      "metadata": {
        "id": "VBxJGBQCXhei"
      },
      "execution_count": null,
      "outputs": []
    },
    {
      "cell_type": "markdown",
      "source": [
        "## Text classification"
      ],
      "metadata": {
        "id": "_WyXQ4ySSyUH"
      }
    },
    {
      "cell_type": "code",
      "source": [
        "# create data loaders\n",
        "df = pd.read_csv(path/'train.csv')\n",
        "dls = TextDataLoaders.from_df(df, text_col='discourse_text',\n",
        "                              label_col='discourse_effectiveness',\n",
        "                              text_vocab=dls_lm.vocab)\n",
        "dls.show_batch(max_n=3)"
      ],
      "metadata": {
        "colab": {
          "base_uri": "https://localhost:8080/",
          "height": 352
        },
        "id": "SpWa5edK5ac1",
        "outputId": "1932e050-80d9-4e33-a6f3-9835e0cd6366"
      },
      "execution_count": null,
      "outputs": [
        {
          "output_type": "display_data",
          "data": {
            "text/plain": [
              "<IPython.core.display.HTML object>"
            ],
            "text/html": [
              "\n",
              "<style>\n",
              "    /* Turns off some styling */\n",
              "    progress {\n",
              "        /* gets rid of default border in Firefox and Opera. */\n",
              "        border: none;\n",
              "        /* Needs to be in here for Safari polyfill so background images work as expected. */\n",
              "        background-size: auto;\n",
              "    }\n",
              "    .progress-bar-interrupted, .progress-bar-interrupted::-webkit-progress-bar {\n",
              "        background: #F44336;\n",
              "    }\n",
              "</style>\n"
            ]
          },
          "metadata": {}
        },
        {
          "output_type": "display_data",
          "data": {
            "text/plain": [
              "<IPython.core.display.HTML object>"
            ],
            "text/html": [
              ""
            ]
          },
          "metadata": {}
        },
        {
          "output_type": "display_data",
          "data": {
            "text/plain": [
              "<IPython.core.display.HTML object>"
            ],
            "text/html": [
              "<table border=\"1\" class=\"dataframe\">\n",
              "  <thead>\n",
              "    <tr style=\"text-align: right;\">\n",
              "      <th></th>\n",
              "      <th>text</th>\n",
              "      <th>category</th>\n",
              "    </tr>\n",
              "  </thead>\n",
              "  <tbody>\n",
              "    <tr>\n",
              "      <th>0</th>\n",
              "      <td>xxbos xxmaj you can search the website up so that you can finished it the assignment to handle it in to your teacher if you missing anything from your others class you can finished with your others class you have with your xxunk . xxmaj if you stuck on the question go asked your teacher to helped you out now go to any comptuer that you wanted to be in you have to sign in thorugh your computer to xxunk in now you hace to wait xxunk the screen show up and now go to the website that is on your paper to finished on your assignment on your homework . \\n\\n xxmaj first now go to any comptuer that you wanted to be in you have to sign in thorugh your computer to xxunk in now you hace to wait xxunk the screen is done . xxmaj now listen</td>\n",
              "      <td>Ineffective</td>\n",
              "    </tr>\n",
              "    <tr>\n",
              "      <th>1</th>\n",
              "      <td>xxbos \" xxmaj attention students , participate in at least one extracurricular activity , \" said my principal . ' \\n\\n \" one of these days again ? \" \" i hate this school , we do this every week . \" generic_name why do you like doing this so much ? \" \" he s letting us play sports , work on the year book , and even have free talking time . \" generic_name said . xxmaj out of nowhere , \\n\\n \" generic_name and generic_name come here ! \" \\n\\n xxmaj me and generic_name looked at each other   and said ' where in trouble ' xxmaj we went to xxmaj mr . generic_name xxmaj office and he asked \\n\\n \" are you boys going to do any activity 's ? ' xxmaj we were xxunk harder than ever . \" yes sir \" generic_name said ,</td>\n",
              "      <td>Ineffective</td>\n",
              "    </tr>\n",
              "    <tr>\n",
              "      <th>2</th>\n",
              "      <td>xxbos xxmaj driveways , home garages , and street parking and forbidden in the experiment of the outskirts on the xxunk district . xxmaj in a place called xxmaj vauban 's streets are completly \" car - free \" . xxmaj the only places that are not car free are downtown near the tram . xxmaj you can only have two places to park and those two places are home , and large garages only at the edge of the developement it costs $ 40 , xxrep 3 0 . xxmaj fifty - seven percent sold a car to move here , and seventy percent of families do not own a car . xxmaj they say \" when i had a car i was always tense . xxmaj xxunk happier this way \" . xxmaj suburbs have linchpin called automobiles . xxmaj up to fifty percent in some car- intensive</td>\n",
              "      <td>Ineffective</td>\n",
              "    </tr>\n",
              "  </tbody>\n",
              "</table>"
            ]
          },
          "metadata": {}
        }
      ]
    },
    {
      "cell_type": "code",
      "source": [
        "learn = text_classifier_learner(dls, AWD_LSTM, \n",
        "                                drop_mult=0.5,\n",
        "                                metrics=[accuracy,F1Score(average='weighted')]).to_fp16()\n",
        "\n",
        "learn = learn.load_encoder(model_save_path / 'finetuned')"
      ],
      "metadata": {
        "id": "yHF2TJZT74gt"
      },
      "execution_count": null,
      "outputs": []
    },
    {
      "cell_type": "code",
      "source": [
        "learn.lr_find(suggest_funcs=(valley, slide))"
      ],
      "metadata": {
        "colab": {
          "base_uri": "https://localhost:8080/",
          "height": 300
        },
        "id": "pxVOMs9zYHHE",
        "outputId": "a6a334cd-612e-4ae5-ba33-4e630b19e21e"
      },
      "execution_count": null,
      "outputs": [
        {
          "output_type": "display_data",
          "data": {
            "text/plain": [
              "<IPython.core.display.HTML object>"
            ],
            "text/html": [
              "\n",
              "<style>\n",
              "    /* Turns off some styling */\n",
              "    progress {\n",
              "        /* gets rid of default border in Firefox and Opera. */\n",
              "        border: none;\n",
              "        /* Needs to be in here for Safari polyfill so background images work as expected. */\n",
              "        background-size: auto;\n",
              "    }\n",
              "    .progress-bar-interrupted, .progress-bar-interrupted::-webkit-progress-bar {\n",
              "        background: #F44336;\n",
              "    }\n",
              "</style>\n"
            ]
          },
          "metadata": {}
        },
        {
          "output_type": "display_data",
          "data": {
            "text/plain": [
              "<IPython.core.display.HTML object>"
            ],
            "text/html": [
              ""
            ]
          },
          "metadata": {}
        },
        {
          "output_type": "execute_result",
          "data": {
            "text/plain": [
              "SuggestedLRs(valley=0.002511886414140463, slide=0.019054606556892395)"
            ]
          },
          "metadata": {},
          "execution_count": 46
        },
        {
          "output_type": "display_data",
          "data": {
            "text/plain": [
              "<Figure size 432x288 with 1 Axes>"
            ],
            "image/png": "[encoded data removed]"
          },
          "metadata": {
            "needs_background": "light"
          }
        }
      ]
    },
    {
      "cell_type": "code",
      "source": [
        "learn.fine_tune(5, 0.01)"
      ],
      "metadata": {
        "colab": {
          "base_uri": "https://localhost:8080/",
          "height": 270
        },
        "id": "G2KpNDQf9FYd",
        "outputId": "aab3a187-ca43-4f82-bc2b-7e8be06dcc15"
      },
      "execution_count": null,
      "outputs": [
        {
          "output_type": "display_data",
          "data": {
            "text/plain": [
              "<IPython.core.display.HTML object>"
            ],
            "text/html": [
              "\n",
              "<style>\n",
              "    /* Turns off some styling */\n",
              "    progress {\n",
              "        /* gets rid of default border in Firefox and Opera. */\n",
              "        border: none;\n",
              "        /* Needs to be in here for Safari polyfill so background images work as expected. */\n",
              "        background-size: auto;\n",
              "    }\n",
              "    .progress-bar-interrupted, .progress-bar-interrupted::-webkit-progress-bar {\n",
              "        background: #F44336;\n",
              "    }\n",
              "</style>\n"
            ]
          },
          "metadata": {}
        },
        {
          "output_type": "display_data",
          "data": {
            "text/plain": [
              "<IPython.core.display.HTML object>"
            ],
            "text/html": [
              "<table border=\"1\" class=\"dataframe\">\n",
              "  <thead>\n",
              "    <tr style=\"text-align: left;\">\n",
              "      <th>epoch</th>\n",
              "      <th>train_loss</th>\n",
              "      <th>valid_loss</th>\n",
              "      <th>accuracy</th>\n",
              "      <th>f1_score</th>\n",
              "      <th>time</th>\n",
              "    </tr>\n",
              "  </thead>\n",
              "  <tbody>\n",
              "    <tr>\n",
              "      <td>0</td>\n",
              "      <td>0.847548</td>\n",
              "      <td>0.834096</td>\n",
              "      <td>0.603019</td>\n",
              "      <td>0.579364</td>\n",
              "      <td>00:50</td>\n",
              "    </tr>\n",
              "  </tbody>\n",
              "</table>"
            ]
          },
          "metadata": {}
        },
        {
          "output_type": "display_data",
          "data": {
            "text/plain": [
              "<IPython.core.display.HTML object>"
            ],
            "text/html": [
              "\n",
              "<style>\n",
              "    /* Turns off some styling */\n",
              "    progress {\n",
              "        /* gets rid of default border in Firefox and Opera. */\n",
              "        border: none;\n",
              "        /* Needs to be in here for Safari polyfill so background images work as expected. */\n",
              "        background-size: auto;\n",
              "    }\n",
              "    .progress-bar-interrupted, .progress-bar-interrupted::-webkit-progress-bar {\n",
              "        background: #F44336;\n",
              "    }\n",
              "</style>\n"
            ]
          },
          "metadata": {}
        },
        {
          "output_type": "display_data",
          "data": {
            "text/plain": [
              "<IPython.core.display.HTML object>"
            ],
            "text/html": [
              "<table border=\"1\" class=\"dataframe\">\n",
              "  <thead>\n",
              "    <tr style=\"text-align: left;\">\n",
              "      <th>epoch</th>\n",
              "      <th>train_loss</th>\n",
              "      <th>valid_loss</th>\n",
              "      <th>accuracy</th>\n",
              "      <th>f1_score</th>\n",
              "      <th>time</th>\n",
              "    </tr>\n",
              "  </thead>\n",
              "  <tbody>\n",
              "    <tr>\n",
              "      <td>0</td>\n",
              "      <td>0.783406</td>\n",
              "      <td>0.783160</td>\n",
              "      <td>0.647083</td>\n",
              "      <td>0.604745</td>\n",
              "      <td>01:05</td>\n",
              "    </tr>\n",
              "    <tr>\n",
              "      <td>1</td>\n",
              "      <td>0.767481</td>\n",
              "      <td>0.759484</td>\n",
              "      <td>0.665851</td>\n",
              "      <td>0.634594</td>\n",
              "      <td>01:05</td>\n",
              "    </tr>\n",
              "    <tr>\n",
              "      <td>2</td>\n",
              "      <td>0.688172</td>\n",
              "      <td>0.756510</td>\n",
              "      <td>0.671155</td>\n",
              "      <td>0.651379</td>\n",
              "      <td>01:05</td>\n",
              "    </tr>\n",
              "    <tr>\n",
              "      <td>3</td>\n",
              "      <td>0.573077</td>\n",
              "      <td>0.820240</td>\n",
              "      <td>0.671155</td>\n",
              "      <td>0.652837</td>\n",
              "      <td>01:05</td>\n",
              "    </tr>\n",
              "    <tr>\n",
              "      <td>4</td>\n",
              "      <td>0.497917</td>\n",
              "      <td>0.847670</td>\n",
              "      <td>0.664219</td>\n",
              "      <td>0.651794</td>\n",
              "      <td>01:05</td>\n",
              "    </tr>\n",
              "  </tbody>\n",
              "</table>"
            ]
          },
          "metadata": {}
        }
      ]
    },
    {
      "cell_type": "code",
      "source": [
        "model_save_path.mkdir(parents=True, exist_ok=True)\n",
        "learn.export(f'{model_save_path}/basic_lm_text_learner.pkl')"
      ],
      "metadata": {
        "id": "Ax5UQ4TAPm8x"
      },
      "execution_count": null,
      "outputs": []
    },
    {
      "cell_type": "markdown",
      "source": [
        "## Test submission"
      ],
      "metadata": {
        "id": "xqlFEkilBkW1"
      }
    },
    {
      "cell_type": "code",
      "source": [
        "test_df = pd.read_csv(path/'test.csv')\n",
        "test_df.rename(columns = {'discourse_text':'text'}, inplace = True)\n",
        "test_df.info()"
      ],
      "metadata": {
        "colab": {
          "base_uri": "https://localhost:8080/"
        },
        "id": "WJszwQGq-hcF",
        "outputId": "c8453e32-30ab-4178-a41c-5955e86f3d51"
      },
      "execution_count": null,
      "outputs": [
        {
          "output_type": "stream",
          "name": "stdout",
          "text": [
            "<class 'pandas.core.frame.DataFrame'>\n",
            "RangeIndex: 10 entries, 0 to 9\n",
            "Data columns (total 4 columns):\n",
            " #   Column          Non-Null Count  Dtype \n",
            "---  ------          --------------  ----- \n",
            " 0   discourse_id    10 non-null     object\n",
            " 1   essay_id        10 non-null     object\n",
            " 2   text            10 non-null     object\n",
            " 3   discourse_type  10 non-null     object\n",
            "dtypes: object(4)\n",
            "memory usage: 448.0+ bytes\n"
          ]
        }
      ]
    },
    {
      "cell_type": "code",
      "source": [
        "tst_dl = dls.test_dl(test_df)\n",
        "tst_dl.show_batch()"
      ],
      "metadata": {
        "colab": {
          "base_uri": "https://localhost:8080/",
          "height": 505
        },
        "id": "2nshwnkyCMXX",
        "outputId": "a044c37b-dab2-4b26-c290-4eee308c4561"
      },
      "execution_count": null,
      "outputs": [
        {
          "output_type": "display_data",
          "data": {
            "text/plain": [
              "<IPython.core.display.HTML object>"
            ],
            "text/html": [
              "<table border=\"1\" class=\"dataframe\">\n",
              "  <thead>\n",
              "    <tr style=\"text-align: right;\">\n",
              "      <th></th>\n",
              "      <th>text</th>\n",
              "    </tr>\n",
              "  </thead>\n",
              "  <tbody>\n",
              "    <tr>\n",
              "      <th>0</th>\n",
              "      <td>xxbos xxmaj taking other peoples advice and doing what they say may lead to a great outcome . xxmaj when you receive other opinions whether they are good or bad you will be able to look at them from a different point of view . xxmaj for example , xxmaj when a group of people give you advice on yourself , you then know how they look at you as a person . xxmaj everyone looks at certain things from a different xxunk . xxmaj how someone else looks at it may be how its supposed to be viewed in life .</td>\n",
              "    </tr>\n",
              "    <tr>\n",
              "      <th>1</th>\n",
              "      <td>xxbos xxmaj everyone is different and may have more experience than you . xxmaj seeking other peoples opinion can cause you to gain a new skill or lesson . xxmaj for example , someones advice could teach you how to do something the correct way . xxmaj many people are very different and have experience different things in life . xxmaj seeking advice from others can teach you a lot . xxmaj we all learn from our mistakes in life , by sharing your past experiences you may prevent someone else from making the same mistake .</td>\n",
              "    </tr>\n",
              "    <tr>\n",
              "      <th>2</th>\n",
              "      <td>xxbos xxmaj when making a decision there is a chance that you can become very stressed and overwhelmed . xxmaj being stressed can cause a person to give up on what they are doing . xxmaj having multiple opinions from people can make choosing an option less difficult and more easier . xxmaj the information that you receive from others may have a special meaning in the future . xxmaj other peoples opinion can make a person feel confident in making the right choice .</td>\n",
              "    </tr>\n",
              "    <tr>\n",
              "      <th>3</th>\n",
              "      <td>xxbos xxmaj you can learn from others experiences by seeking the advice that someone give you . xxmaj making decisions can cause stress on a person . xxmaj relating to someones advice may higher your self - esteem because you no longer feel left out . xxmaj ask others for advice when making a difficult decision . xxmaj when you seek others opinion more opportunities are available fro yourself .</td>\n",
              "    </tr>\n",
              "    <tr>\n",
              "      <th>4</th>\n",
              "      <td>xxbos xxmaj making choices in life can be very difficult . xxmaj people often ask for advice when they can not decide on one thing . xxmaj it 's always good to ask others for their advice when making a choice . xxmaj when you have multiple opinions you have the ability to make the best choice for yourself .</td>\n",
              "    </tr>\n",
              "    <tr>\n",
              "      <th>5</th>\n",
              "      <td>xxbos xxmaj seeking multiple opinions can help a person make a better choice</td>\n",
              "    </tr>\n",
              "    <tr>\n",
              "      <th>6</th>\n",
              "      <td>xxbos xxmaj seeking others opinion can be very helpful and beneficial .</td>\n",
              "    </tr>\n",
              "    <tr>\n",
              "      <th>7</th>\n",
              "      <td>xxbos a great chance to learn something new</td>\n",
              "    </tr>\n",
              "    <tr>\n",
              "      <th>8</th>\n",
              "      <td>xxbos can be very helpful and beneficial .</td>\n",
              "    </tr>\n",
              "  </tbody>\n",
              "</table>"
            ]
          },
          "metadata": {}
        }
      ]
    },
    {
      "cell_type": "code",
      "source": [
        "probs,_,idxs = learn.get_preds(dl=tst_dl, with_decoded=True)\n",
        "probs"
      ],
      "metadata": {
        "colab": {
          "base_uri": "https://localhost:8080/",
          "height": 191
        },
        "id": "NU0WAzprCSja",
        "outputId": "3ed77d5e-a6b3-4261-b55d-99aa93878838"
      },
      "execution_count": null,
      "outputs": [
        {
          "output_type": "display_data",
          "data": {
            "text/plain": [
              "<IPython.core.display.HTML object>"
            ],
            "text/html": [
              "\n",
              "<style>\n",
              "    /* Turns off some styling */\n",
              "    progress {\n",
              "        /* gets rid of default border in Firefox and Opera. */\n",
              "        border: none;\n",
              "        /* Needs to be in here for Safari polyfill so background images work as expected. */\n",
              "        background-size: auto;\n",
              "    }\n",
              "    .progress-bar-interrupted, .progress-bar-interrupted::-webkit-progress-bar {\n",
              "        background: #F44336;\n",
              "    }\n",
              "</style>\n"
            ]
          },
          "metadata": {}
        },
        {
          "output_type": "display_data",
          "data": {
            "text/plain": [
              "<IPython.core.display.HTML object>"
            ],
            "text/html": [
              ""
            ]
          },
          "metadata": {}
        },
        {
          "output_type": "execute_result",
          "data": {
            "text/plain": [
              "tensor([[3.2493e-01, 6.7294e-01, 2.1293e-03],\n",
              "        [8.6966e-01, 6.6345e-02, 6.3990e-02],\n",
              "        [9.3367e-02, 1.0353e-02, 8.9628e-01],\n",
              "        [5.4736e-01, 8.2296e-02, 3.7035e-01],\n",
              "        [9.3367e-02, 1.0353e-02, 8.9628e-01],\n",
              "        [3.1832e-01, 6.8016e-01, 1.5276e-03],\n",
              "        [1.6392e-01, 8.3489e-01, 1.1931e-03],\n",
              "        [5.9668e-01, 1.7137e-01, 2.3196e-01],\n",
              "        [6.3365e-01, 3.6566e-01, 6.9155e-04],\n",
              "        [2.6672e-01, 7.3249e-01, 7.9708e-04]])"
            ]
          },
          "metadata": {},
          "execution_count": 51
        }
      ]
    },
    {
      "cell_type": "code",
      "source": [
        "# column names for probabilities\n",
        "probs_df = pd.DataFrame(probs.numpy(),columns = dls.vocab[1])\n",
        "probs_df"
      ],
      "metadata": {
        "colab": {
          "base_uri": "https://localhost:8080/",
          "height": 363
        },
        "id": "M9m21njOEF9F",
        "outputId": "d9dcf166-c1e5-4f83-9bb6-651fa03136f8"
      },
      "execution_count": null,
      "outputs": [
        {
          "output_type": "execute_result",
          "data": {
            "text/plain": [
              "   Adequate  Effective  Ineffective\n",
              "0  0.324934   0.672936     0.002129\n",
              "1  0.869665   0.066345     0.063990\n",
              "2  0.093367   0.010353     0.896280\n",
              "3  0.547356   0.082296     0.370348\n",
              "4  0.093367   0.010353     0.896280\n",
              "5  0.318316   0.680156     0.001528\n",
              "6  0.163918   0.834889     0.001193\n",
              "7  0.596675   0.171368     0.231956\n",
              "8  0.633652   0.365657     0.000692\n",
              "9  0.266717   0.732486     0.000797"
            ],
            "text/html": [
              "\n",
              "  <div id=\"df-7477c696-9dc2-42e5-9536-34a8502dbb0c\">\n",
              "    <div class=\"colab-df-container\">\n",
              "      <div>\n",
              "<style scoped>\n",
              "    .dataframe tbody tr th:only-of-type {\n",
              "        vertical-align: middle;\n",
              "    }\n",
              "\n",
              "    .dataframe tbody tr th {\n",
              "        vertical-align: top;\n",
              "    }\n",
              "\n",
              "    .dataframe thead th {\n",
              "        text-align: right;\n",
              "    }\n",
              "</style>\n",
              "<table border=\"1\" class=\"dataframe\">\n",
              "  <thead>\n",
              "    <tr style=\"text-align: right;\">\n",
              "      <th></th>\n",
              "      <th>Adequate</th>\n",
              "      <th>Effective</th>\n",
              "      <th>Ineffective</th>\n",
              "    </tr>\n",
              "  </thead>\n",
              "  <tbody>\n",
              "    <tr>\n",
              "      <th>0</th>\n",
              "      <td>0.324934</td>\n",
              "      <td>0.672936</td>\n",
              "      <td>0.002129</td>\n",
              "    </tr>\n",
              "    <tr>\n",
              "      <th>1</th>\n",
              "      <td>0.869665</td>\n",
              "      <td>0.066345</td>\n",
              "      <td>0.063990</td>\n",
              "    </tr>\n",
              "    <tr>\n",
              "      <th>2</th>\n",
              "      <td>0.093367</td>\n",
              "      <td>0.010353</td>\n",
              "      <td>0.896280</td>\n",
              "    </tr>\n",
              "    <tr>\n",
              "      <th>3</th>\n",
              "      <td>0.547356</td>\n",
              "      <td>0.082296</td>\n",
              "      <td>0.370348</td>\n",
              "    </tr>\n",
              "    <tr>\n",
              "      <th>4</th>\n",
              "      <td>0.093367</td>\n",
              "      <td>0.010353</td>\n",
              "      <td>0.896280</td>\n",
              "    </tr>\n",
              "    <tr>\n",
              "      <th>5</th>\n",
              "      <td>0.318316</td>\n",
              "      <td>0.680156</td>\n",
              "      <td>0.001528</td>\n",
              "    </tr>\n",
              "    <tr>\n",
              "      <th>6</th>\n",
              "      <td>0.163918</td>\n",
              "      <td>0.834889</td>\n",
              "      <td>0.001193</td>\n",
              "    </tr>\n",
              "    <tr>\n",
              "      <th>7</th>\n",
              "      <td>0.596675</td>\n",
              "      <td>0.171368</td>\n",
              "      <td>0.231956</td>\n",
              "    </tr>\n",
              "    <tr>\n",
              "      <th>8</th>\n",
              "      <td>0.633652</td>\n",
              "      <td>0.365657</td>\n",
              "      <td>0.000692</td>\n",
              "    </tr>\n",
              "    <tr>\n",
              "      <th>9</th>\n",
              "      <td>0.266717</td>\n",
              "      <td>0.732486</td>\n",
              "      <td>0.000797</td>\n",
              "    </tr>\n",
              "  </tbody>\n",
              "</table>\n",
              "</div>\n",
              "      <button class=\"colab-df-convert\" onclick=\"convertToInteractive('df-7477c696-9dc2-42e5-9536-34a8502dbb0c')\"\n",
              "              title=\"Convert this dataframe to an interactive table.\"\n",
              "              style=\"display:none;\">\n",
              "        \n",
              "  <svg xmlns=\"http://www.w3.org/2000/svg\" height=\"24px\"viewBox=\"0 0 24 24\"\n",
              "       width=\"24px\">\n",
              "    <path d=\"M0 0h24v24H0V0z\" fill=\"none\"/>\n",
              "    <path d=\"M18.56 5.44l.94 2.06.94-2.06 2.06-.94-2.06-.94-.94-2.06-.94 2.06-2.06.94zm-11 1L8.5 8.5l.94-2.06 2.06-.94-2.06-.94L8.5 2.5l-.94 2.06-2.06.94zm10 10l.94 2.06.94-2.06 2.06-.94-2.06-.94-.94-2.06-.94 2.06-2.06.94z\"/><path d=\"M17.41 7.96l-1.37-1.37c-.4-.4-.92-.59-1.43-.59-.52 0-1.04.2-1.43.59L10.3 9.45l-7.72 7.72c-.78.78-.78 2.05 0 2.83L4 21.41c.39.39.9.59 1.41.59.51 0 1.02-.2 1.41-.59l7.78-7.78 2.81-2.81c.8-.78.8-2.07 0-2.86zM5.41 20L4 18.59l7.72-7.72 1.47 1.35L5.41 20z\"/>\n",
              "  </svg>\n",
              "      </button>\n",
              "      \n",
              "  <style>\n",
              "    .colab-df-container {\n",
              "      display:flex;\n",
              "      flex-wrap:wrap;\n",
              "      gap: 12px;\n",
              "    }\n",
              "\n",
              "    .colab-df-convert {\n",
              "      background-color: #E8F0FE;\n",
              "      border: none;\n",
              "      border-radius: 50%;\n",
              "      cursor: pointer;\n",
              "      display: none;\n",
              "      fill: #1967D2;\n",
              "      height: 32px;\n",
              "      padding: 0 0 0 0;\n",
              "      width: 32px;\n",
              "    }\n",
              "\n",
              "    .colab-df-convert:hover {\n",
              "      background-color: #E2EBFA;\n",
              "      box-shadow: 0px 1px 2px rgba(60, 64, 67, 0.3), 0px 1px 3px 1px rgba(60, 64, 67, 0.15);\n",
              "      fill: #174EA6;\n",
              "    }\n",
              "\n",
              "    [theme=dark] .colab-df-convert {\n",
              "      background-color: #3B4455;\n",
              "      fill: #D2E3FC;\n",
              "    }\n",
              "\n",
              "    [theme=dark] .colab-df-convert:hover {\n",
              "      background-color: #434B5C;\n",
              "      box-shadow: 0px 1px 3px 1px rgba(0, 0, 0, 0.15);\n",
              "      filter: drop-shadow(0px 1px 2px rgba(0, 0, 0, 0.3));\n",
              "      fill: #FFFFFF;\n",
              "    }\n",
              "  </style>\n",
              "\n",
              "      <script>\n",
              "        const buttonEl =\n",
              "          document.querySelector('#df-7477c696-9dc2-42e5-9536-34a8502dbb0c button.colab-df-convert');\n",
              "        buttonEl.style.display =\n",
              "          google.colab.kernel.accessAllowed ? 'block' : 'none';\n",
              "\n",
              "        async function convertToInteractive(key) {\n",
              "          const element = document.querySelector('#df-7477c696-9dc2-42e5-9536-34a8502dbb0c');\n",
              "          const dataTable =\n",
              "            await google.colab.kernel.invokeFunction('convertToInteractive',\n",
              "                                                     [key], {});\n",
              "          if (!dataTable) return;\n",
              "\n",
              "          const docLinkHtml = 'Like what you see? Visit the ' +\n",
              "            '<a target=\"_blank\" href=https://colab.research.google.com/notebooks/data_table.ipynb>data table notebook</a>'\n",
              "            + ' to learn more about interactive tables.';\n",
              "          element.innerHTML = '';\n",
              "          dataTable['output_type'] = 'display_data';\n",
              "          await google.colab.output.renderOutput(dataTable, element);\n",
              "          const docLink = document.createElement('div');\n",
              "          docLink.innerHTML = docLinkHtml;\n",
              "          element.appendChild(docLink);\n",
              "        }\n",
              "      </script>\n",
              "    </div>\n",
              "  </div>\n",
              "  "
            ]
          },
          "metadata": {},
          "execution_count": 52
        }
      ]
    },
    {
      "cell_type": "code",
      "source": [
        "probs_df[\"discourse_id\"] = test_df[\"discourse_id\"]\n",
        "probs_df.to_csv('submission.csv', index=False)\n",
        "!head submission.csv"
      ],
      "metadata": {
        "colab": {
          "base_uri": "https://localhost:8080/"
        },
        "id": "WtpR0ynUCY-D",
        "outputId": "9eca95d6-89d3-45a7-ada4-6fa0b8ce7154"
      },
      "execution_count": null,
      "outputs": [
        {
          "output_type": "stream",
          "name": "stdout",
          "text": [
            "Adequate,Effective,Ineffective,discourse_id\n",
            "0.32493442,0.6729363,0.0021292958,a261b6e14276\n",
            "0.86966485,0.06634482,0.06399039,5a88900e7dc1\n",
            "0.093366645,0.010353404,0.89628,9790d835736b\n",
            "0.5473558,0.082296096,0.37034816,75ce6d68b67b\n",
            "0.093366645,0.010353404,0.89628,93578d946723\n",
            "0.31831622,0.6801563,0.0015275878,2e214524dbe3\n",
            "0.16391838,0.8348886,0.0011930547,84812fc2ab9f\n",
            "0.59667546,0.17136826,0.23195633,c668ff840720\n",
            "0.6336518,0.36565667,0.00069155474,739a6d00f44a\n"
          ]
        }
      ]
    },
    {
      "cell_type": "code",
      "source": [
        "# not working for this competetion\n",
        "# if not iskaggle:\n",
        "#     from kaggle import api\n",
        "#     api.competition_submit_cli('submission.csv', 'initial', comp)"
      ],
      "metadata": {
        "id": "BCHJJtmoCkX-"
      },
      "execution_count": null,
      "outputs": []
    },
    {
      "cell_type": "code",
      "source": [
        "if not iskaggle:\n",
        "    push_notebook('saan', comp,\n",
        "                  title='Feedback effeciveness  initial model',\n",
        "                  file='/content/drive/MyDrive/Colab Notebooks/basic_lm_model.ipynb',\n",
        "                  competition=comp, private=True, gpu=True)"
      ],
      "metadata": {
        "id": "3DYHPZlGaaV1"
      },
      "execution_count": null,
      "outputs": []
    },
    {
      "cell_type": "code",
      "source": [
        ""
      ],
      "metadata": {
        "id": "Rxb5R3vYbLaw"
      },
      "execution_count": null,
      "outputs": []
    }
  ]
}