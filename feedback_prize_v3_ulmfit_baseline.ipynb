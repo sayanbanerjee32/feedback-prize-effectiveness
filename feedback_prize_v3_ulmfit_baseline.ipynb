{
  "nbformat": 4,
  "nbformat_minor": 0,
  "metadata": {
    "colab": {
      "provenance": [],
      "collapsed_sections": [],
      "authorship_tag": "ABX9TyND8rhezohkR2NLbJ7OtHyK",
      "include_colab_link": true
    },
    "kernelspec": {
      "name": "python3",
      "display_name": "Python 3"
    },
    "language_info": {
      "name": "python"
    },
    "accelerator": "GPU",
    "gpuClass": "standard"
  },
  "cells": [
    {
      "cell_type": "markdown",
      "metadata": {
        "id": "view-in-github",
        "colab_type": "text"
      },
      "source": [
        "<a href=\"https://colab.research.google.com/github/sayanbanerjee32/feedback-prize-effectiveness/blob/main/feedback_prize_v3_ulmfit_baseline.ipynb\" target=\"_parent\"><img src=\"https://colab.research.google.com/assets/colab-badge.svg\" alt=\"Open In Colab\"/></a>"
      ]
    },
    {
      "cell_type": "code",
      "execution_count": 1,
      "metadata": {
        "id": "s_RVHFy-XSRj"
      },
      "outputs": [],
      "source": [
        "# install fastkaggle if not available\n",
        "!pip install -Uq fastai\n",
        "try: import fastkaggle\n",
        "except ModuleNotFoundError:\n",
        "    !pip install -Uq fastkaggle\n",
        "\n",
        "# !pip install -Uq 'timm>=0.6.2.dev'\n",
        "!pip install -Uq pynvml\n",
        "from fastkaggle import *"
      ]
    },
    {
      "cell_type": "code",
      "source": [
        "import os\n",
        "from pathlib import Path\n",
        "import fastai\n",
        "fastai.__version__"
      ],
      "metadata": {
        "colab": {
          "base_uri": "https://localhost:8080/",
          "height": 36
        },
        "id": "KGeBc2yCbSeC",
        "outputId": "c7deebaf-91ef-442c-9147-25db63eb87b4"
      },
      "execution_count": 2,
      "outputs": [
        {
          "output_type": "execute_result",
          "data": {
            "text/plain": [
              "'2.7.9'"
            ],
            "application/vnd.google.colaboratory.intrinsic+json": {
              "type": "string"
            }
          },
          "metadata": {},
          "execution_count": 2
        }
      ]
    },
    {
      "cell_type": "code",
      "source": [
        "# config depending on whether this is running on kaggle or collab\n",
        "# is_colab = True\n",
        "is_colab = not os.environ.get('KAGGLE_KERNEL_RUN_TYPE', '')\n",
        "comp = 'feedback-prize-english-language-learning'\n",
        "if is_colab:\n",
        "    model_save_path = Path('/content/'+comp+'_out/models')\n",
        "else:\n",
        "    model_save_path = Path('/kaggle/working/'+comp) #+'/models')"
      ],
      "metadata": {
        "id": "mnTACAbpbUvG"
      },
      "execution_count": 3,
      "outputs": []
    },
    {
      "cell_type": "code",
      "source": [
        "# import colab libraries\n",
        "if is_colab:\n",
        "    from google.colab import drive\n",
        "    drive.mount('/content/drive')"
      ],
      "metadata": {
        "colab": {
          "base_uri": "https://localhost:8080/"
        },
        "id": "ZIykCAnDbdYX",
        "outputId": "9dc348d9-68bf-4958-c99b-d71680d07409"
      },
      "execution_count": 4,
      "outputs": [
        {
          "output_type": "stream",
          "name": "stdout",
          "text": [
            "Drive already mounted at /content/drive; to attempt to forcibly remount, call drive.mount(\"/content/drive\", force_remount=True).\n"
          ]
        }
      ]
    },
    {
      "cell_type": "code",
      "source": [
        "# The Kaggle API client expects this file to be in ~/.kaggle,\n",
        "# so lets move it there.\n",
        "if is_colab:\n",
        "    !mkdir ~/.kaggle\n",
        "    !cp /content/drive/MyDrive/Kaggle_api_auth/kaggle.json ~/.kaggle/"
      ],
      "metadata": {
        "id": "htVIuQoubfNX",
        "colab": {
          "base_uri": "https://localhost:8080/"
        },
        "outputId": "1a07d2b2-c2d0-4ca0-9a1c-5f8c8f8d4a41"
      },
      "execution_count": 5,
      "outputs": [
        {
          "output_type": "stream",
          "name": "stdout",
          "text": [
            "mkdir: cannot create directory ‘/root/.kaggle’: File exists\n"
          ]
        }
      ]
    },
    {
      "cell_type": "code",
      "source": [
        "# This permissions change avoids a warning on Kaggle tool startup.\n",
        "if is_colab:\n",
        "    !chmod 600 ~/.kaggle/kaggle.json"
      ],
      "metadata": {
        "id": "1uJ_9VMPbj6w"
      },
      "execution_count": 6,
      "outputs": []
    },
    {
      "cell_type": "code",
      "source": [
        "path = setup_comp(comp)\n",
        "path"
      ],
      "metadata": {
        "colab": {
          "base_uri": "https://localhost:8080/"
        },
        "id": "CoOIVsuGblvn",
        "outputId": "dde54797-8b0c-4e55-f66b-29400dc17dd3"
      },
      "execution_count": 7,
      "outputs": [
        {
          "output_type": "stream",
          "name": "stdout",
          "text": [
            "Downloading feedback-prize-english-language-learning.zip to /content\n"
          ]
        },
        {
          "output_type": "stream",
          "name": "stderr",
          "text": [
            "100%|██████████| 2.80M/2.80M [00:00<00:00, 202MB/s]"
          ]
        },
        {
          "output_type": "stream",
          "name": "stdout",
          "text": [
            "\n"
          ]
        },
        {
          "output_type": "stream",
          "name": "stderr",
          "text": [
            "\n"
          ]
        },
        {
          "output_type": "execute_result",
          "data": {
            "text/plain": [
              "Path('feedback-prize-english-language-learning')"
            ]
          },
          "metadata": {},
          "execution_count": 7
        }
      ]
    },
    {
      "cell_type": "code",
      "source": [
        "from fastai.text.all import *\n",
        "set_seed(32)"
      ],
      "metadata": {
        "id": "ENXdIxiHb_tw"
      },
      "execution_count": 8,
      "outputs": []
    },
    {
      "cell_type": "markdown",
      "source": [
        "### Language model for original text"
      ],
      "metadata": {
        "id": "-ugRuWJvcyMf"
      }
    },
    {
      "cell_type": "code",
      "source": [
        "# read train csv\n",
        "train_df = pd.read_csv(path / 'train.csv')\n",
        "train_df.head()"
      ],
      "metadata": {
        "colab": {
          "base_uri": "https://localhost:8080/",
          "height": 944
        },
        "id": "dCdJIPnVdVPi",
        "outputId": "33460ae7-5c5c-4b49-ab2b-fe6d86782dbf"
      },
      "execution_count": 9,
      "outputs": [
        {
          "output_type": "execute_result",
          "data": {
            "text/plain": [
              "        text_id  \\\n",
              "0  0016926B079C   \n",
              "1  0022683E9EA5   \n",
              "2  00299B378633   \n",
              "3  003885A45F42   \n",
              "4  0049B1DF5CCC   \n",
              "\n",
              "                                                                                                                                                                                                                                                                                                                                                                                                                                                                                                                                                                                                                 full_text  \\\n",
              "0  I think that students would benefit from learning at home,because they wont have to change and get up early in the morning to shower and do there hair. taking only classes helps them because at there house they'll be pay more attention. they will be comfortable at home.\\n\\nThe hardest part of school is getting ready. you wake up go brush your teeth and go to your closet and look at your cloths. after you think you picked a outfit u go look in the mirror and youll either not like it or you look and see a stain. Then you'll have to change. with the online classes you can wear anything and st...   \n",
              "1  When a problem is a change you have to let it do the best on you no matter what is happening it can change your mind. sometimes you need to wake up and look what is around you because problems are the best way to change what you want to change along time ago. A\\n\\nproblem is a change for you because it can make you see different and help you to understand how tings wok.\\n\\nFirst of all it can make you see different then the others. For example i remember that when i came to the United States i think that nothing was going to change me because i think that nothing was going to change me bec...   \n",
              "2  Dear, Principal\\n\\nIf u change the school policy of having a grade b average that unfair. Because many students have a C average. So that means that they cant go out for sports or other activities they want to do bad. That's like taking everything they have. What if kids want to become good at something, but now they cant because of that school policy. If they have a C average they should still be able to go out for sports or activities. A C average isn't that bad, its higher then a D average. If the school police was if you have a D average of lower they shouldn't do sports or activities....   \n",
              "3  The best time in life is when you become yourself. I agree that the greatest accomplishment, is when you be yourself in a world that constantly trying to make you something else. Because you make your own choices, you become more happy, and you respect others.\\n\\nFirst, you make your own choices by being yourself. Becoming yourself means that you should be able to make your own choices and not be shy or afraid of what you're doing. Because you're defining yourself by doing those things that you want. Some people follow others, therefore, they don't make their own choices. People are afraid...   \n",
              "4  Small act of kindness can impact in other people can change people to become better persons you can have an impact of kindess with a homeles that can change his life or with some who needed they are going to know you are a nice person if you are a nice person everywhere you go people is going to like your personality so you have to be a nice person with others like a old women triying to cross the road thats a impact of kindness when you do that you feel a greate person you can change people in the way they think by helping others treating nice other people give them some advice when you s...   \n",
              "\n",
              "   cohesion  syntax  vocabulary  phraseology  grammar  conventions  \n",
              "0       3.5     3.5         3.0          3.0      4.0          3.0  \n",
              "1       2.5     2.5         3.0          2.0      2.0          2.5  \n",
              "2       3.0     3.5         3.0          3.0      3.0          2.5  \n",
              "3       4.5     4.5         4.5          4.5      4.0          5.0  \n",
              "4       2.5     3.0         3.0          3.0      2.5          2.5  "
            ],
            "text/html": [
              "\n",
              "  <div id=\"df-473197fc-f337-43e3-9756-cabd91313b93\">\n",
              "    <div class=\"colab-df-container\">\n",
              "      <div>\n",
              "<style scoped>\n",
              "    .dataframe tbody tr th:only-of-type {\n",
              "        vertical-align: middle;\n",
              "    }\n",
              "\n",
              "    .dataframe tbody tr th {\n",
              "        vertical-align: top;\n",
              "    }\n",
              "\n",
              "    .dataframe thead th {\n",
              "        text-align: right;\n",
              "    }\n",
              "</style>\n",
              "<table border=\"1\" class=\"dataframe\">\n",
              "  <thead>\n",
              "    <tr style=\"text-align: right;\">\n",
              "      <th></th>\n",
              "      <th>text_id</th>\n",
              "      <th>full_text</th>\n",
              "      <th>cohesion</th>\n",
              "      <th>syntax</th>\n",
              "      <th>vocabulary</th>\n",
              "      <th>phraseology</th>\n",
              "      <th>grammar</th>\n",
              "      <th>conventions</th>\n",
              "    </tr>\n",
              "  </thead>\n",
              "  <tbody>\n",
              "    <tr>\n",
              "      <th>0</th>\n",
              "      <td>0016926B079C</td>\n",
              "      <td>I think that students would benefit from learning at home,because they wont have to change and get up early in the morning to shower and do there hair. taking only classes helps them because at there house they'll be pay more attention. they will be comfortable at home.\\n\\nThe hardest part of school is getting ready. you wake up go brush your teeth and go to your closet and look at your cloths. after you think you picked a outfit u go look in the mirror and youll either not like it or you look and see a stain. Then you'll have to change. with the online classes you can wear anything and st...</td>\n",
              "      <td>3.5</td>\n",
              "      <td>3.5</td>\n",
              "      <td>3.0</td>\n",
              "      <td>3.0</td>\n",
              "      <td>4.0</td>\n",
              "      <td>3.0</td>\n",
              "    </tr>\n",
              "    <tr>\n",
              "      <th>1</th>\n",
              "      <td>0022683E9EA5</td>\n",
              "      <td>When a problem is a change you have to let it do the best on you no matter what is happening it can change your mind. sometimes you need to wake up and look what is around you because problems are the best way to change what you want to change along time ago. A\\n\\nproblem is a change for you because it can make you see different and help you to understand how tings wok.\\n\\nFirst of all it can make you see different then the others. For example i remember that when i came to the United States i think that nothing was going to change me because i think that nothing was going to change me bec...</td>\n",
              "      <td>2.5</td>\n",
              "      <td>2.5</td>\n",
              "      <td>3.0</td>\n",
              "      <td>2.0</td>\n",
              "      <td>2.0</td>\n",
              "      <td>2.5</td>\n",
              "    </tr>\n",
              "    <tr>\n",
              "      <th>2</th>\n",
              "      <td>00299B378633</td>\n",
              "      <td>Dear, Principal\\n\\nIf u change the school policy of having a grade b average that unfair. Because many students have a C average. So that means that they cant go out for sports or other activities they want to do bad. That's like taking everything they have. What if kids want to become good at something, but now they cant because of that school policy. If they have a C average they should still be able to go out for sports or activities. A C average isn't that bad, its higher then a D average. If the school police was if you have a D average of lower they shouldn't do sports or activities....</td>\n",
              "      <td>3.0</td>\n",
              "      <td>3.5</td>\n",
              "      <td>3.0</td>\n",
              "      <td>3.0</td>\n",
              "      <td>3.0</td>\n",
              "      <td>2.5</td>\n",
              "    </tr>\n",
              "    <tr>\n",
              "      <th>3</th>\n",
              "      <td>003885A45F42</td>\n",
              "      <td>The best time in life is when you become yourself. I agree that the greatest accomplishment, is when you be yourself in a world that constantly trying to make you something else. Because you make your own choices, you become more happy, and you respect others.\\n\\nFirst, you make your own choices by being yourself. Becoming yourself means that you should be able to make your own choices and not be shy or afraid of what you're doing. Because you're defining yourself by doing those things that you want. Some people follow others, therefore, they don't make their own choices. People are afraid...</td>\n",
              "      <td>4.5</td>\n",
              "      <td>4.5</td>\n",
              "      <td>4.5</td>\n",
              "      <td>4.5</td>\n",
              "      <td>4.0</td>\n",
              "      <td>5.0</td>\n",
              "    </tr>\n",
              "    <tr>\n",
              "      <th>4</th>\n",
              "      <td>0049B1DF5CCC</td>\n",
              "      <td>Small act of kindness can impact in other people can change people to become better persons you can have an impact of kindess with a homeles that can change his life or with some who needed they are going to know you are a nice person if you are a nice person everywhere you go people is going to like your personality so you have to be a nice person with others like a old women triying to cross the road thats a impact of kindness when you do that you feel a greate person you can change people in the way they think by helping others treating nice other people give them some advice when you s...</td>\n",
              "      <td>2.5</td>\n",
              "      <td>3.0</td>\n",
              "      <td>3.0</td>\n",
              "      <td>3.0</td>\n",
              "      <td>2.5</td>\n",
              "      <td>2.5</td>\n",
              "    </tr>\n",
              "  </tbody>\n",
              "</table>\n",
              "</div>\n",
              "      <button class=\"colab-df-convert\" onclick=\"convertToInteractive('df-473197fc-f337-43e3-9756-cabd91313b93')\"\n",
              "              title=\"Convert this dataframe to an interactive table.\"\n",
              "              style=\"display:none;\">\n",
              "        \n",
              "  <svg xmlns=\"http://www.w3.org/2000/svg\" height=\"24px\"viewBox=\"0 0 24 24\"\n",
              "       width=\"24px\">\n",
              "    <path d=\"M0 0h24v24H0V0z\" fill=\"none\"/>\n",
              "    <path d=\"M18.56 5.44l.94 2.06.94-2.06 2.06-.94-2.06-.94-.94-2.06-.94 2.06-2.06.94zm-11 1L8.5 8.5l.94-2.06 2.06-.94-2.06-.94L8.5 2.5l-.94 2.06-2.06.94zm10 10l.94 2.06.94-2.06 2.06-.94-2.06-.94-.94-2.06-.94 2.06-2.06.94z\"/><path d=\"M17.41 7.96l-1.37-1.37c-.4-.4-.92-.59-1.43-.59-.52 0-1.04.2-1.43.59L10.3 9.45l-7.72 7.72c-.78.78-.78 2.05 0 2.83L4 21.41c.39.39.9.59 1.41.59.51 0 1.02-.2 1.41-.59l7.78-7.78 2.81-2.81c.8-.78.8-2.07 0-2.86zM5.41 20L4 18.59l7.72-7.72 1.47 1.35L5.41 20z\"/>\n",
              "  </svg>\n",
              "      </button>\n",
              "      \n",
              "  <style>\n",
              "    .colab-df-container {\n",
              "      display:flex;\n",
              "      flex-wrap:wrap;\n",
              "      gap: 12px;\n",
              "    }\n",
              "\n",
              "    .colab-df-convert {\n",
              "      background-color: #E8F0FE;\n",
              "      border: none;\n",
              "      border-radius: 50%;\n",
              "      cursor: pointer;\n",
              "      display: none;\n",
              "      fill: #1967D2;\n",
              "      height: 32px;\n",
              "      padding: 0 0 0 0;\n",
              "      width: 32px;\n",
              "    }\n",
              "\n",
              "    .colab-df-convert:hover {\n",
              "      background-color: #E2EBFA;\n",
              "      box-shadow: 0px 1px 2px rgba(60, 64, 67, 0.3), 0px 1px 3px 1px rgba(60, 64, 67, 0.15);\n",
              "      fill: #174EA6;\n",
              "    }\n",
              "\n",
              "    [theme=dark] .colab-df-convert {\n",
              "      background-color: #3B4455;\n",
              "      fill: #D2E3FC;\n",
              "    }\n",
              "\n",
              "    [theme=dark] .colab-df-convert:hover {\n",
              "      background-color: #434B5C;\n",
              "      box-shadow: 0px 1px 3px 1px rgba(0, 0, 0, 0.15);\n",
              "      filter: drop-shadow(0px 1px 2px rgba(0, 0, 0, 0.3));\n",
              "      fill: #FFFFFF;\n",
              "    }\n",
              "  </style>\n",
              "\n",
              "      <script>\n",
              "        const buttonEl =\n",
              "          document.querySelector('#df-473197fc-f337-43e3-9756-cabd91313b93 button.colab-df-convert');\n",
              "        buttonEl.style.display =\n",
              "          google.colab.kernel.accessAllowed ? 'block' : 'none';\n",
              "\n",
              "        async function convertToInteractive(key) {\n",
              "          const element = document.querySelector('#df-473197fc-f337-43e3-9756-cabd91313b93');\n",
              "          const dataTable =\n",
              "            await google.colab.kernel.invokeFunction('convertToInteractive',\n",
              "                                                     [key], {});\n",
              "          if (!dataTable) return;\n",
              "\n",
              "          const docLinkHtml = 'Like what you see? Visit the ' +\n",
              "            '<a target=\"_blank\" href=https://colab.research.google.com/notebooks/data_table.ipynb>data table notebook</a>'\n",
              "            + ' to learn more about interactive tables.';\n",
              "          element.innerHTML = '';\n",
              "          dataTable['output_type'] = 'display_data';\n",
              "          await google.colab.output.renderOutput(dataTable, element);\n",
              "          const docLink = document.createElement('div');\n",
              "          docLink.innerHTML = docLinkHtml;\n",
              "          element.appendChild(docLink);\n",
              "        }\n",
              "      </script>\n",
              "    </div>\n",
              "  </div>\n",
              "  "
            ]
          },
          "metadata": {},
          "execution_count": 9
        }
      ]
    },
    {
      "cell_type": "code",
      "source": [
        "train_df.info()"
      ],
      "metadata": {
        "colab": {
          "base_uri": "https://localhost:8080/"
        },
        "id": "axo5JiYBtJYk",
        "outputId": "cb0b32bf-841a-4ec5-950a-717edcf261c7"
      },
      "execution_count": 10,
      "outputs": [
        {
          "output_type": "stream",
          "name": "stdout",
          "text": [
            "<class 'pandas.core.frame.DataFrame'>\n",
            "RangeIndex: 3911 entries, 0 to 3910\n",
            "Data columns (total 8 columns):\n",
            " #   Column       Non-Null Count  Dtype  \n",
            "---  ------       --------------  -----  \n",
            " 0   text_id      3911 non-null   object \n",
            " 1   full_text    3911 non-null   object \n",
            " 2   cohesion     3911 non-null   float64\n",
            " 3   syntax       3911 non-null   float64\n",
            " 4   vocabulary   3911 non-null   float64\n",
            " 5   phraseology  3911 non-null   float64\n",
            " 6   grammar      3911 non-null   float64\n",
            " 7   conventions  3911 non-null   float64\n",
            "dtypes: float64(6), object(2)\n",
            "memory usage: 244.6+ KB\n"
          ]
        }
      ]
    },
    {
      "cell_type": "code",
      "source": [
        "# random sampling to test in collab\n",
        "if is_colab: train_df = train_df.sample(frac=0.10)\n",
        "train_df.shape[0]"
      ],
      "metadata": {
        "colab": {
          "base_uri": "https://localhost:8080/"
        },
        "id": "rNQsgBV8rq9k",
        "outputId": "21251610-4c58-4488-8a65-3ec3f2e44cfa"
      },
      "execution_count": 11,
      "outputs": [
        {
          "output_type": "execute_result",
          "data": {
            "text/plain": [
              "391"
            ]
          },
          "metadata": {},
          "execution_count": 11
        }
      ]
    },
    {
      "cell_type": "code",
      "source": [
        "# # In this cell fastai TextDataLoader functions are overridden to allow taking output \n",
        "# # directory as input so that the toknised data is not written in data input directory\n",
        "# # in Kaggle, data input directory is read-only\n",
        "# from fastai.text.core import _tokenize_files\n",
        "# @delegates(_tokenize_files)\n",
        "# def tokenize_folderOP(path, extensions=None, folders=None,\n",
        "#                       output_dir=None, skip_if_exists=True, **kwargs):\n",
        "#     \"\"\"replacement of fastai.text.core.tokenize_folder so that it passes\n",
        "#      output_dir as input to _tokenize_files\"\"\"\n",
        "#     path,extensions = Path(path),ifnone(extensions, ['.txt'])\n",
        "#     files = get_files(path, extensions=extensions, recurse=True, folders=folders)\n",
        "#     def _f(i,output_dir): return output_dir/files[i].relative_to(path)\n",
        "#     return _tokenize_files(_f, files, path, output_dir, \n",
        "#                            skip_if_exists=skip_if_exists, **kwargs)\n",
        "\n",
        "# class TokenizerOP(Tokenizer):\n",
        "#     \"\"\"Wrapper class for fastai.text.core.Tokenizer class to override\n",
        "#     from_folder method to take output_dir as input and call the overridden\n",
        "#     method tokenize_folderOP\"\"\"\n",
        "#     def __init__(self, tok, rules=None, counter=None,\n",
        "#                  lengths=None, mode=None, sep=' '):\n",
        "#         super().__init__(tok, rules=rules, counter=counter,\n",
        "#                  lengths=lengths, mode=mode, sep=sep)\n",
        "    \n",
        "#     @classmethod\n",
        "#     @delegates(tokenize_folderOP, keep=True)\n",
        "#     def from_folder(cls, path, tok=None, rules=None, output_dir = None, **kwargs):\n",
        "#         path = Path(path)\n",
        "#         if tok is None: tok = WordTokenizer()\n",
        "#         output_dir = tokenize_folderOP(path, tok=tok, rules=rules, \n",
        "#                                        skip_if_exists = False, \n",
        "#                                        output_dir = output_dir, **kwargs)\n",
        "#         res = cls(tok, counter=load_pickle(output_dir/fn_counter_pkl),\n",
        "#                   lengths=load_pickle(output_dir/fn_lengths_pkl),\n",
        "#                   rules=rules, mode='folder')\n",
        "#         res.path,res.output_dir = path,output_dir\n",
        "#         return res\n",
        "\n",
        "\n",
        "# class TextBlockOP(TextBlock):\n",
        "#     \"Overriding TextBlock for user defined output dir\"\n",
        "#     def __init__(self, tok_tfm, vocab=None, is_lm=False,\n",
        "#                  seq_len=72, backwards=False, **kwargs):\n",
        "#         super().__init__(tok_tfm, vocab=vocab, is_lm=is_lm,\n",
        "#                  seq_len=seq_len, backwards=backwards, **kwargs)\n",
        "#     @classmethod\n",
        "#     @delegates(TokenizerOP.from_folder, keep=True)\n",
        "#     def from_folder(cls, path, vocab=None, is_lm=False, seq_len=72,\n",
        "#                     backwards=False, min_freq=3, max_vocab=60000,output_dir =None,\n",
        "#                     **kwargs):\n",
        "#         \"Build a `TextBlock` from a `path` - calls TokenizerOP and provides output_dir as input\"\n",
        "#         return cls(TokenizerOP.from_folder(path, output_dir = output_dir, **kwargs), vocab=vocab, is_lm=is_lm, seq_len=seq_len,\n",
        "#                    backwards=backwards, min_freq=min_freq, max_vocab=max_vocab)\n",
        "        \n",
        "# class TextDataLoadersOP(TextDataLoaders):\n",
        "#     \"Basic wrapper around several `DataLoader`s with factory methods for NLP problems\"\n",
        "#     @classmethod\n",
        "#     @delegates(DataLoaders.from_dblock)\n",
        "#     def from_folder(cls, path, train='train', valid='valid', valid_pct=None,\n",
        "#                     seed=None, vocab=None, text_vocab=None, is_lm=False,\n",
        "#                     tok_tfm=None, seq_len=72, splitter=None,\n",
        "#                     backwards=False, output_dir =None, **kwargs):\n",
        "#         \"This is to override same method from TextDataLoaders to accept and pass output_dir as input\"\n",
        "#         if splitter is None:\n",
        "#             splitter = GrandparentSplitter(train_name=train,\n",
        "#                                            valid_name=valid) if valid_pct is None else RandomSplitter(valid_pct,\n",
        "#                                                                                                       seed=seed)\n",
        "#         blocks = [TextBlockOP.from_folder(path, text_vocab, is_lm, seq_len, backwards,\n",
        "#                                           tok=tok_tfm, output_dir = output_dir)]\n",
        "#         if not is_lm: blocks.append(CategoryBlock(vocab=vocab))\n",
        "#         get_items = partial(get_text_files, folders=[train,valid]) if valid_pct is None else get_text_files\n",
        "#         dblock = DataBlock(blocks=blocks,\n",
        "#                            get_items=get_items,\n",
        "#                            splitter=splitter,\n",
        "#                            get_y=None if is_lm else parent_label)\n",
        "#         return cls.from_dblock(dblock, path, path=path, seq_len=seq_len, **kwargs)\n",
        "\n",
        "#     @classmethod\n",
        "#     @delegates(DataLoaders.from_dblock)\n",
        "#     def from_df(cls, df, path='.', valid_pct=0.2, seed=None, text_col=0, label_col=1, label_delim=None, y_block=None,\n",
        "#                 text_vocab=None, is_lm=False, valid_col=None, tok_tfm=None, tok_text_col=\"text\", seq_len=72, backwards=False, **kwargs):\n",
        "#         \"Create from `df` in `path` with `valid_pct`\"\n",
        "#         blocks = [TextBlock.from_df(text_col, text_vocab, is_lm, seq_len, backwards, tok=tok_tfm)]\n",
        "#         if y_block is None and not is_lm:\n",
        "#             blocks.append(MultiCategoryBlock if is_listy(label_col) and len(label_col) > 1 else CategoryBlock)\n",
        "#         if y_block is not None and not is_lm: blocks += (y_block if is_listy(y_block) else [y_block])\n",
        "#         splitter = RandomSplitter(valid_pct, seed=seed) if valid_col is None else ColSplitter(valid_col)\n",
        "#         dblock = DataBlock(blocks=blocks,\n",
        "#                            get_x=ColReader(tok_text_col),\n",
        "#                            get_y=None if is_lm else ColReader(label_col, label_delim=label_delim),\n",
        "#                            splitter=splitter)\n",
        "#         return cls.from_dblock(dblock, df, path=path, seq_len=seq_len, **kwargs)"
      ],
      "metadata": {
        "id": "4RXh78SccC1I"
      },
      "execution_count": 12,
      "outputs": []
    },
    {
      "cell_type": "markdown",
      "source": [
        "### Language model finetuning"
      ],
      "metadata": {
        "id": "N_ec5-oftReJ"
      }
    },
    {
      "cell_type": "code",
      "source": [
        "# tok_path = model_save_path / 'train_tok'\n",
        "# tok_path.mkdir(parents=True, exist_ok=True)\n",
        "dls_lm = TextDataLoaders.from_df(train_df, text_col='full_text', is_lm=True,\n",
        "                                       valid_pct=0.1,)\n",
        "                                #   output_dir = tok_path)\n",
        "dls_lm.show_batch(max_n=5)"
      ],
      "metadata": {
        "colab": {
          "base_uri": "https://localhost:8080/",
          "height": 536
        },
        "id": "aA_Va9Zyc76g",
        "outputId": "d31bb56b-848a-407b-d04c-d6913c730dcd"
      },
      "execution_count": 13,
      "outputs": [
        {
          "output_type": "display_data",
          "data": {
            "text/plain": [
              "<IPython.core.display.HTML object>"
            ],
            "text/html": [
              "\n",
              "<style>\n",
              "    /* Turns off some styling */\n",
              "    progress {\n",
              "        /* gets rid of default border in Firefox and Opera. */\n",
              "        border: none;\n",
              "        /* Needs to be in here for Safari polyfill so background images work as expected. */\n",
              "        background-size: auto;\n",
              "    }\n",
              "    progress:not([value]), progress:not([value])::-webkit-progress-bar {\n",
              "        background: repeating-linear-gradient(45deg, #7e7e7e, #7e7e7e 10px, #5c5c5c 10px, #5c5c5c 20px);\n",
              "    }\n",
              "    .progress-bar-interrupted, .progress-bar-interrupted::-webkit-progress-bar {\n",
              "        background: #F44336;\n",
              "    }\n",
              "</style>\n"
            ]
          },
          "metadata": {}
        },
        {
          "output_type": "display_data",
          "data": {
            "text/plain": [
              "<IPython.core.display.HTML object>"
            ],
            "text/html": []
          },
          "metadata": {}
        },
        {
          "output_type": "display_data",
          "data": {
            "text/plain": [
              "<IPython.core.display.HTML object>"
            ],
            "text/html": [
              "<table border=\"1\" class=\"dataframe\">\n",
              "  <thead>\n",
              "    <tr style=\"text-align: right;\">\n",
              "      <th></th>\n",
              "      <th>text</th>\n",
              "      <th>text_</th>\n",
              "    </tr>\n",
              "  </thead>\n",
              "  <tbody>\n",
              "    <tr>\n",
              "      <th>0</th>\n",
              "      <td>xxbos i disagree whit this statement , because positive attitude is not the solution for all your problems in life there are many problem that you can beat . \\n\\n when you came to this country and you are alone and do nt have help from other people you just ca nt be positive you do nt understand the language and if you are illegal you do nt have the many benefit</td>\n",
              "      <td>i disagree whit this statement , because positive attitude is not the solution for all your problems in life there are many problem that you can beat . \\n\\n when you came to this country and you are alone and do nt have help from other people you just ca nt be positive you do nt understand the language and if you are illegal you do nt have the many benefit like</td>\n",
              "    </tr>\n",
              "    <tr>\n",
              "      <th>1</th>\n",
              "      <td>7 steps from the half court of the basketball court . xxmaj you are the most fastest person in the world . xxmaj you would be faster then everyone in the whole school and the most fastest in the track team and could also go to the xxunk . xxmaj find out your best skill and what your good at . \\n\\n xxmaj you can do what many people ca nt do</td>\n",
              "      <td>steps from the half court of the basketball court . xxmaj you are the most fastest person in the world . xxmaj you would be faster then everyone in the whole school and the most fastest in the track team and could also go to the xxunk . xxmaj find out your best skill and what your good at . \\n\\n xxmaj you can do what many people ca nt do in</td>\n",
              "    </tr>\n",
              "    <tr>\n",
              "      <th>2</th>\n",
              "      <td>your head which would give you another xxunk . xxmaj now with a student that is in online classes wo n't have to worry about those xxunk . \\n\\n xxmaj even the simple things could affect your ability to be able to learn like what you eat . xxmaj if you do nt eat anything during the day you get hungry and that becomes a xxunk . xxmaj in most schools they</td>\n",
              "      <td>head which would give you another xxunk . xxmaj now with a student that is in online classes wo n't have to worry about those xxunk . \\n\\n xxmaj even the simple things could affect your ability to be able to learn like what you eat . xxmaj if you do nt eat anything during the day you get hungry and that becomes a xxunk . xxmaj in most schools they serve</td>\n",
              "    </tr>\n",
              "    <tr>\n",
              "      <th>3</th>\n",
              "      <td>i can be better tomorrow . xxbos xxmaj imagine running through the xxunk so fast with something under your feet running by people kicking is as hard as you can for your team to be in the lead . xxmaj just imagine doing something you love that makes you xxunk and it just feels like you have never worked a day in your life , my three major reasons are improve ,</td>\n",
              "      <td>can be better tomorrow . xxbos xxmaj imagine running through the xxunk so fast with something under your feet running by people kicking is as hard as you can for your team to be in the lead . xxmaj just imagine doing something you love that makes you xxunk and it just feels like you have never worked a day in your life , my three major reasons are improve , have</td>\n",
              "    </tr>\n",
              "    <tr>\n",
              "      <th>4</th>\n",
              "      <td>belive that if student 's can find a goal of having to be going for 3 years in school instead of 4 year 's . it would take them hard work and confident in order to earn it but other 's might say that they xxunk to be in school longer . because of friend 's or liking to learn alot and it no rush toward them for they are xxunk in</td>\n",
              "      <td>that if student 's can find a goal of having to be going for 3 years in school instead of 4 year 's . it would take them hard work and confident in order to earn it but other 's might say that they xxunk to be in school longer . because of friend 's or liking to learn alot and it no rush toward them for they are xxunk in learning</td>\n",
              "    </tr>\n",
              "  </tbody>\n",
              "</table>"
            ]
          },
          "metadata": {}
        }
      ]
    },
    {
      "cell_type": "code",
      "source": [
        "# dump vocab that will be required for inference script\n",
        "model_save_path.mkdir(parents=True, exist_ok=True)\n",
        "with open(model_save_path / 'dls_lm_vocab.pickle', 'wb') as b:\n",
        "    pickle.dump(dls_lm.vocab,b)"
      ],
      "metadata": {
        "id": "YYlzCCH2gEUc"
      },
      "execution_count": 15,
      "outputs": []
    },
    {
      "cell_type": "code",
      "source": [
        "learn_lm = language_model_learner(dls_lm, AWD_LSTM, metrics=[accuracy, Perplexity()], path=path, wd=0.1).to_fp16()"
      ],
      "metadata": {
        "id": "2kElr1GrgpWM"
      },
      "execution_count": 16,
      "outputs": []
    },
    {
      "cell_type": "code",
      "source": [
        "learn_lm.fit_one_cycle(1, 1e-2)"
      ],
      "metadata": {
        "colab": {
          "base_uri": "https://localhost:8080/",
          "height": 81
        },
        "id": "_JW0CBFggx7g",
        "outputId": "e24d4cfe-1f2b-4866-c3af-8bf0f44092c5"
      },
      "execution_count": 17,
      "outputs": [
        {
          "output_type": "display_data",
          "data": {
            "text/plain": [
              "<IPython.core.display.HTML object>"
            ],
            "text/html": [
              "\n",
              "<style>\n",
              "    /* Turns off some styling */\n",
              "    progress {\n",
              "        /* gets rid of default border in Firefox and Opera. */\n",
              "        border: none;\n",
              "        /* Needs to be in here for Safari polyfill so background images work as expected. */\n",
              "        background-size: auto;\n",
              "    }\n",
              "    progress:not([value]), progress:not([value])::-webkit-progress-bar {\n",
              "        background: repeating-linear-gradient(45deg, #7e7e7e, #7e7e7e 10px, #5c5c5c 10px, #5c5c5c 20px);\n",
              "    }\n",
              "    .progress-bar-interrupted, .progress-bar-interrupted::-webkit-progress-bar {\n",
              "        background: #F44336;\n",
              "    }\n",
              "</style>\n"
            ]
          },
          "metadata": {}
        },
        {
          "output_type": "display_data",
          "data": {
            "text/plain": [
              "<IPython.core.display.HTML object>"
            ],
            "text/html": [
              "<table border=\"1\" class=\"dataframe\">\n",
              "  <thead>\n",
              "    <tr style=\"text-align: left;\">\n",
              "      <th>epoch</th>\n",
              "      <th>train_loss</th>\n",
              "      <th>valid_loss</th>\n",
              "      <th>accuracy</th>\n",
              "      <th>perplexity</th>\n",
              "      <th>time</th>\n",
              "    </tr>\n",
              "  </thead>\n",
              "  <tbody>\n",
              "    <tr>\n",
              "      <td>0</td>\n",
              "      <td>4.349894</td>\n",
              "      <td>4.008068</td>\n",
              "      <td>0.237728</td>\n",
              "      <td>55.040436</td>\n",
              "      <td>00:07</td>\n",
              "    </tr>\n",
              "  </tbody>\n",
              "</table>"
            ]
          },
          "metadata": {}
        }
      ]
    },
    {
      "cell_type": "code",
      "source": [
        "learn_lm.unfreeze()\n",
        "learn_lm.fit_one_cycle(10, 1e-3)"
      ],
      "metadata": {
        "id": "8MlXOKdAg0yb",
        "colab": {
          "base_uri": "https://localhost:8080/",
          "height": 363
        },
        "outputId": "f715121b-7296-4e27-b784-1f347d82271b"
      },
      "execution_count": 18,
      "outputs": [
        {
          "output_type": "display_data",
          "data": {
            "text/plain": [
              "<IPython.core.display.HTML object>"
            ],
            "text/html": [
              "\n",
              "<style>\n",
              "    /* Turns off some styling */\n",
              "    progress {\n",
              "        /* gets rid of default border in Firefox and Opera. */\n",
              "        border: none;\n",
              "        /* Needs to be in here for Safari polyfill so background images work as expected. */\n",
              "        background-size: auto;\n",
              "    }\n",
              "    progress:not([value]), progress:not([value])::-webkit-progress-bar {\n",
              "        background: repeating-linear-gradient(45deg, #7e7e7e, #7e7e7e 10px, #5c5c5c 10px, #5c5c5c 20px);\n",
              "    }\n",
              "    .progress-bar-interrupted, .progress-bar-interrupted::-webkit-progress-bar {\n",
              "        background: #F44336;\n",
              "    }\n",
              "</style>\n"
            ]
          },
          "metadata": {}
        },
        {
          "output_type": "display_data",
          "data": {
            "text/plain": [
              "<IPython.core.display.HTML object>"
            ],
            "text/html": [
              "<table border=\"1\" class=\"dataframe\">\n",
              "  <thead>\n",
              "    <tr style=\"text-align: left;\">\n",
              "      <th>epoch</th>\n",
              "      <th>train_loss</th>\n",
              "      <th>valid_loss</th>\n",
              "      <th>accuracy</th>\n",
              "      <th>perplexity</th>\n",
              "      <th>time</th>\n",
              "    </tr>\n",
              "  </thead>\n",
              "  <tbody>\n",
              "    <tr>\n",
              "      <td>0</td>\n",
              "      <td>4.052726</td>\n",
              "      <td>3.923204</td>\n",
              "      <td>0.244792</td>\n",
              "      <td>50.562172</td>\n",
              "      <td>00:07</td>\n",
              "    </tr>\n",
              "    <tr>\n",
              "      <td>1</td>\n",
              "      <td>3.942304</td>\n",
              "      <td>3.793540</td>\n",
              "      <td>0.254385</td>\n",
              "      <td>44.413326</td>\n",
              "      <td>00:07</td>\n",
              "    </tr>\n",
              "    <tr>\n",
              "      <td>2</td>\n",
              "      <td>3.797738</td>\n",
              "      <td>3.722722</td>\n",
              "      <td>0.259749</td>\n",
              "      <td>41.376881</td>\n",
              "      <td>00:07</td>\n",
              "    </tr>\n",
              "    <tr>\n",
              "      <td>3</td>\n",
              "      <td>3.653148</td>\n",
              "      <td>3.684710</td>\n",
              "      <td>0.265330</td>\n",
              "      <td>39.833569</td>\n",
              "      <td>00:08</td>\n",
              "    </tr>\n",
              "    <tr>\n",
              "      <td>4</td>\n",
              "      <td>3.516006</td>\n",
              "      <td>3.681235</td>\n",
              "      <td>0.267437</td>\n",
              "      <td>39.695381</td>\n",
              "      <td>00:08</td>\n",
              "    </tr>\n",
              "    <tr>\n",
              "      <td>5</td>\n",
              "      <td>3.400863</td>\n",
              "      <td>3.671598</td>\n",
              "      <td>0.269528</td>\n",
              "      <td>39.314671</td>\n",
              "      <td>00:07</td>\n",
              "    </tr>\n",
              "    <tr>\n",
              "      <td>6</td>\n",
              "      <td>3.294753</td>\n",
              "      <td>3.676487</td>\n",
              "      <td>0.269636</td>\n",
              "      <td>39.507378</td>\n",
              "      <td>00:07</td>\n",
              "    </tr>\n",
              "    <tr>\n",
              "      <td>7</td>\n",
              "      <td>3.208072</td>\n",
              "      <td>3.672323</td>\n",
              "      <td>0.271846</td>\n",
              "      <td>39.343204</td>\n",
              "      <td>00:07</td>\n",
              "    </tr>\n",
              "    <tr>\n",
              "      <td>8</td>\n",
              "      <td>3.149429</td>\n",
              "      <td>3.679417</td>\n",
              "      <td>0.270789</td>\n",
              "      <td>39.623272</td>\n",
              "      <td>00:07</td>\n",
              "    </tr>\n",
              "    <tr>\n",
              "      <td>9</td>\n",
              "      <td>3.111506</td>\n",
              "      <td>3.679897</td>\n",
              "      <td>0.270646</td>\n",
              "      <td>39.642303</td>\n",
              "      <td>00:07</td>\n",
              "    </tr>\n",
              "  </tbody>\n",
              "</table>"
            ]
          },
          "metadata": {}
        }
      ]
    },
    {
      "cell_type": "code",
      "source": [
        "model_save_path.mkdir(parents=True, exist_ok=True)\n",
        "if iskaggle:\n",
        "    # hack to save encoder in a writable location\n",
        "    learn_lm.path = model_save_path\n",
        "    learn_lm.save_encoder('finetuned_enc')\n",
        "    # learn_lm.save('finetuned_lm')\n",
        "else:\n",
        "    learn_lm.save_encoder(model_save_path / 'finetuned_enc')"
      ],
      "metadata": {
        "id": "5fwS2ZZAg3GE"
      },
      "execution_count": 19,
      "outputs": []
    },
    {
      "cell_type": "markdown",
      "source": [
        "Classification model finetuning"
      ],
      "metadata": {
        "id": "Ymkv_7-CtV5v"
      }
    },
    {
      "cell_type": "code",
      "source": [
        "train_df.info()"
      ],
      "metadata": {
        "colab": {
          "base_uri": "https://localhost:8080/"
        },
        "id": "d-fMLX9eyqtO",
        "outputId": "b8997e28-5de0-487e-a2d4-bceb6c453154"
      },
      "execution_count": 20,
      "outputs": [
        {
          "output_type": "stream",
          "name": "stdout",
          "text": [
            "<class 'pandas.core.frame.DataFrame'>\n",
            "Int64Index: 391 entries, 2135 to 2032\n",
            "Data columns (total 8 columns):\n",
            " #   Column       Non-Null Count  Dtype  \n",
            "---  ------       --------------  -----  \n",
            " 0   text_id      391 non-null    object \n",
            " 1   full_text    391 non-null    object \n",
            " 2   cohesion     391 non-null    float64\n",
            " 3   syntax       391 non-null    float64\n",
            " 4   vocabulary   391 non-null    float64\n",
            " 5   phraseology  391 non-null    float64\n",
            " 6   grammar      391 non-null    float64\n",
            " 7   conventions  391 non-null    float64\n",
            "dtypes: float64(6), object(2)\n",
            "memory usage: 27.5+ KB\n"
          ]
        }
      ]
    },
    {
      "cell_type": "code",
      "source": [
        "dls = DataBlock(\n",
        "    blocks=(TextBlock.from_df('full_text', vocab = dls_lm.vocab),\n",
        "            RegressionBlock,\n",
        "            RegressionBlock,\n",
        "            RegressionBlock,\n",
        "            RegressionBlock,\n",
        "            RegressionBlock,\n",
        "            RegressionBlock),\n",
        "    n_inp=1,\n",
        "    get_x=ColReader('text'), \n",
        "    get_y=[ColReader('cohesion'), \n",
        "           ColReader('syntax'),\n",
        "           ColReader('vocabulary'),\n",
        "           ColReader('phraseology'),\n",
        "           ColReader('grammar'), \n",
        "           ColReader('conventions')],\n",
        "    splitter=RandomSplitter(0.2, seed=42),\n",
        "\n",
        ").dataloaders(train_df, bs=64)\n",
        "dls.show_batch()"
      ],
      "metadata": {
        "id": "8Nfi-R5ZhLCq",
        "colab": {
          "base_uri": "https://localhost:8080/",
          "height": 1000
        },
        "outputId": "f68474fd-f335-4675-e060-d7c13ccf858a"
      },
      "execution_count": 21,
      "outputs": [
        {
          "output_type": "display_data",
          "data": {
            "text/plain": [
              "<IPython.core.display.HTML object>"
            ],
            "text/html": [
              "\n",
              "<style>\n",
              "    /* Turns off some styling */\n",
              "    progress {\n",
              "        /* gets rid of default border in Firefox and Opera. */\n",
              "        border: none;\n",
              "        /* Needs to be in here for Safari polyfill so background images work as expected. */\n",
              "        background-size: auto;\n",
              "    }\n",
              "    progress:not([value]), progress:not([value])::-webkit-progress-bar {\n",
              "        background: repeating-linear-gradient(45deg, #7e7e7e, #7e7e7e 10px, #5c5c5c 10px, #5c5c5c 20px);\n",
              "    }\n",
              "    .progress-bar-interrupted, .progress-bar-interrupted::-webkit-progress-bar {\n",
              "        background: #F44336;\n",
              "    }\n",
              "</style>\n"
            ]
          },
          "metadata": {}
        },
        {
          "output_type": "display_data",
          "data": {
            "text/plain": [
              "<IPython.core.display.HTML object>"
            ],
            "text/html": []
          },
          "metadata": {}
        },
        {
          "output_type": "display_data",
          "data": {
            "text/plain": [
              "<IPython.core.display.HTML object>"
            ],
            "text/html": [
              "<table border=\"1\" class=\"dataframe\">\n",
              "  <thead>\n",
              "    <tr style=\"text-align: right;\">\n",
              "      <th></th>\n",
              "      <th>text</th>\n",
              "      <th>text_</th>\n",
              "      <th>text__</th>\n",
              "      <th>text___</th>\n",
              "      <th>text____</th>\n",
              "      <th>text_____</th>\n",
              "      <th>text______</th>\n",
              "    </tr>\n",
              "  </thead>\n",
              "  <tbody>\n",
              "    <tr>\n",
              "      <th>0</th>\n",
              "      <td>xxbos xxmaj it 's a good idea for students to graduate of three years of high school instead of taking for years , i think if they have already passed their classes then they would not have to take elective classes and they might be able to graduate early , but if they need more then seven classes then they might do not be able to graduate and they will have to come during summer to complete their classes that they need to pass . \\n\\n xxmaj for example if they are still missing some of the work they had to complete at the end of the year they would have to come during summer school or maybe take more classes then what they were allow to be taking . \\n\\n xxmaj if they need to complete more work they might come during summer break , i think it would</td>\n",
              "      <td>3.5</td>\n",
              "      <td>4.0</td>\n",
              "      <td>3.0</td>\n",
              "      <td>4.0</td>\n",
              "      <td>3.0</td>\n",
              "      <td>3.0</td>\n",
              "    </tr>\n",
              "    <tr>\n",
              "      <th>1</th>\n",
              "      <td>xxbos xxmaj have you ever accomplished something in your life ? xxmaj because people nowadays are very lazy and hard headed because they are easily distracted by social media , people around them , and also the society that 's why they can not focus on their goals in life . xxmaj although some might argue it is not better to work on something to accomplish , actually it is better to work on something to accomplish because you will gain more knowledge and people will be proud to what you 've accomplished . \\n\\n xxmaj one reason why it is better to work on something to accomplish is because you will gain more knowledge . xxmaj for instance , based on my personal experience when i was in middle school , i do nt do my projects , homework , xxunk works because xxmaj i 'm too lazy and</td>\n",
              "      <td>4.0</td>\n",
              "      <td>4.0</td>\n",
              "      <td>4.0</td>\n",
              "      <td>4.0</td>\n",
              "      <td>3.5</td>\n",
              "      <td>3.5</td>\n",
              "    </tr>\n",
              "    <tr>\n",
              "      <th>2</th>\n",
              "      <td>xxbos i agree with success consists of going from failure to failure without loss of enthusiasm because everyone need to be stronger , successful , and become independent xxunk . \\n\\n xxmaj success are things that everybody need to be stronger the most they can with every single thing in your life because everyone has bad moments in lifes and there are many peoples that they want to see them fail in everything . xxmaj for example , if someone is given in they can find someone who is bad person and the only thing that they do is to given words that did not help in anything , but that 's why they have to failure , but do not have to loss enthusiasm because if you loss enthusiasm you are failed in everything because in lifes you can find peoples that want to help you a lot ,</td>\n",
              "      <td>3.0</td>\n",
              "      <td>2.5</td>\n",
              "      <td>3.0</td>\n",
              "      <td>2.5</td>\n",
              "      <td>2.5</td>\n",
              "      <td>3.5</td>\n",
              "    </tr>\n",
              "    <tr>\n",
              "      <th>3</th>\n",
              "      <td>xxbos xxmaj today world , everything start to moving forward . xxmaj people start to invent the new ideas and those ideas make life more easily . xxmaj in medical world , people make a new kind of medicine to xxunk the xxunk , compare to the old world a lot of people had die . xxmaj in technology world , people put those ideas into the physical xxunk that it is so important for today life . xxmaj from all we see everything is start from the ideas and who invent the idea ? xxmaj this is the kind of the question that no one ever ask . xxmaj it is us the people that invent the idea . \\n\\n xxmaj people can make a change to the world if they start to think or we can call the attitude . xxmaj the attitude of the people have a</td>\n",
              "      <td>4.0</td>\n",
              "      <td>4.0</td>\n",
              "      <td>3.5</td>\n",
              "      <td>3.5</td>\n",
              "      <td>3.5</td>\n",
              "      <td>4.0</td>\n",
              "    </tr>\n",
              "    <tr>\n",
              "      <th>4</th>\n",
              "      <td>xxbos \" getting something by doing something or doing nothing also bring us something \" \\n\\n xxmaj we accomplish more if we are always doing something , because if we do more than what we want or have we will always be growing , everytime that we do something no matter what it 's we receive something back , many people called '' reward \" , when we want something and we work hard to get that , we create a confidence in ourself 's that we now that by doing something we can get what we want and we motivate ourself to accomplish that . we get more if we do more , but some people think that by doing nothing you can get something back . accomplishment is something that you get by working hard , giving your best , and by doing something about it , if</td>\n",
              "      <td>3.5</td>\n",
              "      <td>3.5</td>\n",
              "      <td>4.0</td>\n",
              "      <td>3.5</td>\n",
              "      <td>3.5</td>\n",
              "      <td>3.0</td>\n",
              "    </tr>\n",
              "    <tr>\n",
              "      <th>5</th>\n",
              "      <td>xxbos xxmaj the xxmaj curfews xxmaj keep xxmaj teenagers xxmaj out xxmaj of xxmaj trouble \\n\\n xxmaj once , i walked down the empty street during midnight . xxmaj then , i heard a xxunk sound of a strange xxunk behind me . xxmaj suddenly , i felt xxunk and scared that someone might come up to me and murder me for money . xxmaj xxunk , there was nothing happened to me . xxmaj after i got home , i had a thinking that what if a city council xxunk a 10 xxup p.m. weekday curfew and a midnight curfew for teenagers . xxmaj if the curfew is xxunk , any teenager who is xxunk on the street after those hours would be xxunk the law . xxmaj on the other hand , some might believe that the curfews unfairly interfere in young people 's lives because it does</td>\n",
              "      <td>4.0</td>\n",
              "      <td>4.5</td>\n",
              "      <td>4.5</td>\n",
              "      <td>4.5</td>\n",
              "      <td>4.5</td>\n",
              "      <td>4.5</td>\n",
              "    </tr>\n",
              "    <tr>\n",
              "      <th>6</th>\n",
              "      <td>xxbos xxmaj xxunk : \\n\\n xxmaj author xxmaj ralph xxmaj waldo xxmaj emerson \" unless you try to do something , beyond what you have already mastered , you will never grow \" . xxmaj one thing that is really important in life is xxmaj school because is the second place that we learn about how we can be respectful , responsible , honest and education . xxmaj the second thing is xxmaj xxunk xxmaj independent because when we are always with our family is simple because we do n't know how is the reality in the life . xxmaj we were dependent but work include be prepare to have new experiences in our personal life and we are prepare to the future . xxmaj the third thing is xxmaj life xxmaj cycle when we are baby , kids , teenagers , adults and older . \\n\\n xxmaj the first</td>\n",
              "      <td>3.5</td>\n",
              "      <td>3.0</td>\n",
              "      <td>3.5</td>\n",
              "      <td>2.5</td>\n",
              "      <td>2.5</td>\n",
              "      <td>2.5</td>\n",
              "    </tr>\n",
              "    <tr>\n",
              "      <th>7</th>\n",
              "      <td>xxbos xxmaj the succes is what people really want all the time , but it is not easy at all . xxmaj sometimes we have to pass throught xxunk xxunk to get to the sucess . xxmaj each person want to be succesful in life , but to get what we really want , we have to be positive with the head up . xxmaj we do nt have to put ourselves in an xxunk situation because it wo n't help us to get the succes that we want . xxmaj it just going to help us to go through the way of failure . xxmaj not all the time going to be easy . xxmaj we must have to fail a lot of time , it help us to see what we are doing wrong , and what we have to change to get what we want . xxmaj</td>\n",
              "      <td>2.5</td>\n",
              "      <td>2.5</td>\n",
              "      <td>3.0</td>\n",
              "      <td>3.0</td>\n",
              "      <td>2.0</td>\n",
              "      <td>2.5</td>\n",
              "    </tr>\n",
              "    <tr>\n",
              "      <th>8</th>\n",
              "      <td>xxbos xxmaj positive attitude is the key to a successful and happy life . xxmaj people who has positive attitude will act more with xxunk and honesty . xxmaj they will respect the xxunk of others . xxmaj they will take responsibility for your actions and their consequences . xxmaj in order to gain self - respect and confidence people needs to have a positive attitude . 3 / 5 people in the world has a positive attitude . xxmaj it has been xxunk that people who has a positive attitude has the highest acceptance xxunk in a community , then the people who do not have a positive attitude . xxmaj however its true that people who has a positive attitude are more happy and it has an important impact on the society due to their daily life activities . xxmaj they will show empathy , xxunk , and</td>\n",
              "      <td>3.5</td>\n",
              "      <td>3.0</td>\n",
              "      <td>3.5</td>\n",
              "      <td>3.5</td>\n",
              "      <td>3.0</td>\n",
              "      <td>3.5</td>\n",
              "    </tr>\n",
              "  </tbody>\n",
              "</table>"
            ]
          },
          "metadata": {}
        }
      ]
    },
    {
      "cell_type": "code",
      "source": [
        "reg_loss = MSELossFlat()\n",
        "def cohesion_err(inp,cohesion,syntax,vocabulary,phraseology,grammar,conventions): \n",
        "    return reg_loss(inp[:,0],cohesion)\n",
        "def cohesion_loss(inp,cohesion,syntax,vocabulary,phraseology,grammar,conventions): \n",
        "    return torch.sqrt(reg_loss(inp[:,0],cohesion))\n",
        "\n",
        "def syntax_err(inp,cohesion,syntax,vocabulary,phraseology,grammar,conventions): \n",
        "    return reg_loss(inp[:,1],syntax)\n",
        "def syntax_loss(inp,cohesion,syntax,vocabulary,phraseology,grammar,conventions): \n",
        "    return torch.sqrt(reg_loss(inp[:,1],syntax))\n",
        "\n",
        "def vocabulary_err(inp,cohesion,syntax,vocabulary,phraseology,grammar,conventions): \n",
        "    return reg_loss(inp[:,2],vocabulary)\n",
        "def vocabulary_loss(inp,cohesion,syntax,vocabulary,phraseology,grammar,conventions): \n",
        "    return torch.sqrt(reg_loss(inp[:,2],vocabulary))\n",
        "\n",
        "def phraseology_err(inp,cohesion,syntax,vocabulary,phraseology,grammar,conventions): \n",
        "    return reg_loss(inp[:,3],phraseology)\n",
        "def phraseology_loss(inp,cohesion,syntax,vocabulary,phraseology,grammar,conventions): \n",
        "    return torch.sqrt(reg_loss(inp[:,3],phraseology))\n",
        "\n",
        "def grammar_err(inp,cohesion,syntax,vocabulary,phraseology,grammar,conventions): \n",
        "    return reg_loss(inp[:,4],grammar)\n",
        "def grammar_loss(inp,cohesion,syntax,vocabulary,phraseology,grammar,conventions): \n",
        "    return torch.sqrt(reg_loss(inp[:,4],grammar))\n",
        "\n",
        "def conventions_err(inp,cohesion,syntax,vocabulary,phraseology,grammar,conventions): \n",
        "    return reg_loss(inp[:,5],conventions)\n",
        "def conventions_loss(inp,cohesion,syntax,vocabulary,phraseology,grammar,conventions): \n",
        "    return torch.sqrt(reg_loss(inp[:,5],conventions))\n",
        "\n"
      ],
      "metadata": {
        "id": "qnKKkX8X9Q-n"
      },
      "execution_count": 22,
      "outputs": []
    },
    {
      "cell_type": "code",
      "source": [
        "# combine all loss and error metrics\n",
        "def combine_loss(inp,cohesion,syntax,vocabulary,phraseology,grammar,conventions): \n",
        "    return (cohesion_loss(inp,cohesion,syntax,vocabulary,phraseology,grammar,conventions) + \\\n",
        "        syntax_loss(inp,cohesion,syntax,vocabulary,phraseology,grammar,conventions)+ \\\n",
        "        vocabulary_loss(inp,cohesion,syntax,vocabulary,phraseology,grammar,conventions)+ \\\n",
        "        phraseology_loss(inp,cohesion,syntax,vocabulary,phraseology,grammar,conventions)+ \\\n",
        "        grammar_loss(inp,cohesion,syntax,vocabulary,phraseology,grammar,conventions)+ \\\n",
        "        conventions_loss(inp,cohesion,syntax,vocabulary,phraseology,grammar,conventions)) / 6\n",
        "\n",
        "err_metrics = (cohesion_err,syntax_err, vocabulary_err,\n",
        "               phraseology_err, grammar_err, conventions_err)\n",
        "\n"
      ],
      "metadata": {
        "id": "K67jIwkCDI5q"
      },
      "execution_count": 23,
      "outputs": []
    },
    {
      "cell_type": "code",
      "source": [
        "learn = text_classifier_learner(dls, AWD_LSTM, \n",
        "                                drop_mult=0.5,\n",
        "                                backwards=False,\n",
        "                                y_range = (0, 5.5),\n",
        "                                loss_func=combine_loss,\n",
        "                                metrics=err_metrics,\n",
        "                                n_out=6\n",
        "                                # metrics=[accuracy,F1Score(average='weighted')]\n",
        "                                ).to_fp16()\n",
        "# load encoder from language model\n",
        "if iskaggle: model_save_path = model_save_path / 'models'\n",
        "learn = learn.load_encoder(model_save_path / 'finetuned_enc')"
      ],
      "metadata": {
        "id": "y-zwVF_VvCA3"
      },
      "execution_count": 24,
      "outputs": []
    },
    {
      "cell_type": "code",
      "source": [
        "# learn.loss_func"
      ],
      "metadata": {
        "id": "ZjMLC6f0zjeA"
      },
      "execution_count": 25,
      "outputs": []
    },
    {
      "cell_type": "code",
      "source": [
        "learn.lr_find(suggest_funcs=(valley, slide))"
      ],
      "metadata": {
        "colab": {
          "base_uri": "https://localhost:8080/",
          "height": 300
        },
        "id": "fbWJf-sQxqDT",
        "outputId": "b9b46f4a-4430-435c-ac64-3b37ee9ac56a"
      },
      "execution_count": 26,
      "outputs": [
        {
          "output_type": "display_data",
          "data": {
            "text/plain": [
              "<IPython.core.display.HTML object>"
            ],
            "text/html": [
              "\n",
              "<style>\n",
              "    /* Turns off some styling */\n",
              "    progress {\n",
              "        /* gets rid of default border in Firefox and Opera. */\n",
              "        border: none;\n",
              "        /* Needs to be in here for Safari polyfill so background images work as expected. */\n",
              "        background-size: auto;\n",
              "    }\n",
              "    progress:not([value]), progress:not([value])::-webkit-progress-bar {\n",
              "        background: repeating-linear-gradient(45deg, #7e7e7e, #7e7e7e 10px, #5c5c5c 10px, #5c5c5c 20px);\n",
              "    }\n",
              "    .progress-bar-interrupted, .progress-bar-interrupted::-webkit-progress-bar {\n",
              "        background: #F44336;\n",
              "    }\n",
              "</style>\n"
            ]
          },
          "metadata": {}
        },
        {
          "output_type": "display_data",
          "data": {
            "text/plain": [
              "<IPython.core.display.HTML object>"
            ],
            "text/html": []
          },
          "metadata": {}
        },
        {
          "output_type": "execute_result",
          "data": {
            "text/plain": [
              "SuggestedLRs(valley=0.001737800776027143, slide=0.013182567432522774)"
            ]
          },
          "metadata": {},
          "execution_count": 26
        },
        {
          "output_type": "display_data",
          "data": {
            "text/plain": [
              "<Figure size 432x288 with 1 Axes>"
            ],
            "image/png": "[encoded data removed]"
          },
          "metadata": {
            "needs_background": "light"
          }
        }
      ]
    },
    {
      "cell_type": "code",
      "source": [
        "learn.fine_tune(5, 0.01)"
      ],
      "metadata": {
        "colab": {
          "base_uri": "https://localhost:8080/",
          "height": 270
        },
        "id": "1bxc-DJ9xvgA",
        "outputId": "309f75f1-a187-4446-be54-f16582c2a720"
      },
      "execution_count": 27,
      "outputs": [
        {
          "output_type": "display_data",
          "data": {
            "text/plain": [
              "<IPython.core.display.HTML object>"
            ],
            "text/html": [
              "\n",
              "<style>\n",
              "    /* Turns off some styling */\n",
              "    progress {\n",
              "        /* gets rid of default border in Firefox and Opera. */\n",
              "        border: none;\n",
              "        /* Needs to be in here for Safari polyfill so background images work as expected. */\n",
              "        background-size: auto;\n",
              "    }\n",
              "    progress:not([value]), progress:not([value])::-webkit-progress-bar {\n",
              "        background: repeating-linear-gradient(45deg, #7e7e7e, #7e7e7e 10px, #5c5c5c 10px, #5c5c5c 20px);\n",
              "    }\n",
              "    .progress-bar-interrupted, .progress-bar-interrupted::-webkit-progress-bar {\n",
              "        background: #F44336;\n",
              "    }\n",
              "</style>\n"
            ]
          },
          "metadata": {}
        },
        {
          "output_type": "display_data",
          "data": {
            "text/plain": [
              "<IPython.core.display.HTML object>"
            ],
            "text/html": [
              "<table border=\"1\" class=\"dataframe\">\n",
              "  <thead>\n",
              "    <tr style=\"text-align: left;\">\n",
              "      <th>epoch</th>\n",
              "      <th>train_loss</th>\n",
              "      <th>valid_loss</th>\n",
              "      <th>cohesion_err</th>\n",
              "      <th>syntax_err</th>\n",
              "      <th>vocabulary_err</th>\n",
              "      <th>phraseology_err</th>\n",
              "      <th>grammar_err</th>\n",
              "      <th>conventions_err</th>\n",
              "      <th>time</th>\n",
              "    </tr>\n",
              "  </thead>\n",
              "  <tbody>\n",
              "    <tr>\n",
              "      <td>0</td>\n",
              "      <td>1.087521</td>\n",
              "      <td>0.691545</td>\n",
              "      <td>0.488515</td>\n",
              "      <td>0.372705</td>\n",
              "      <td>0.352312</td>\n",
              "      <td>0.564675</td>\n",
              "      <td>0.726824</td>\n",
              "      <td>0.428725</td>\n",
              "      <td>00:02</td>\n",
              "    </tr>\n",
              "  </tbody>\n",
              "</table>"
            ]
          },
          "metadata": {}
        },
        {
          "output_type": "display_data",
          "data": {
            "text/plain": [
              "<IPython.core.display.HTML object>"
            ],
            "text/html": [
              "\n",
              "<style>\n",
              "    /* Turns off some styling */\n",
              "    progress {\n",
              "        /* gets rid of default border in Firefox and Opera. */\n",
              "        border: none;\n",
              "        /* Needs to be in here for Safari polyfill so background images work as expected. */\n",
              "        background-size: auto;\n",
              "    }\n",
              "    progress:not([value]), progress:not([value])::-webkit-progress-bar {\n",
              "        background: repeating-linear-gradient(45deg, #7e7e7e, #7e7e7e 10px, #5c5c5c 10px, #5c5c5c 20px);\n",
              "    }\n",
              "    .progress-bar-interrupted, .progress-bar-interrupted::-webkit-progress-bar {\n",
              "        background: #F44336;\n",
              "    }\n",
              "</style>\n"
            ]
          },
          "metadata": {}
        },
        {
          "output_type": "display_data",
          "data": {
            "text/plain": [
              "<IPython.core.display.HTML object>"
            ],
            "text/html": [
              "<table border=\"1\" class=\"dataframe\">\n",
              "  <thead>\n",
              "    <tr style=\"text-align: left;\">\n",
              "      <th>epoch</th>\n",
              "      <th>train_loss</th>\n",
              "      <th>valid_loss</th>\n",
              "      <th>cohesion_err</th>\n",
              "      <th>syntax_err</th>\n",
              "      <th>vocabulary_err</th>\n",
              "      <th>phraseology_err</th>\n",
              "      <th>grammar_err</th>\n",
              "      <th>conventions_err</th>\n",
              "      <th>time</th>\n",
              "    </tr>\n",
              "  </thead>\n",
              "  <tbody>\n",
              "    <tr>\n",
              "      <td>0</td>\n",
              "      <td>0.839373</td>\n",
              "      <td>0.698345</td>\n",
              "      <td>0.402962</td>\n",
              "      <td>0.355585</td>\n",
              "      <td>0.503980</td>\n",
              "      <td>0.523013</td>\n",
              "      <td>0.685572</td>\n",
              "      <td>0.514269</td>\n",
              "      <td>00:05</td>\n",
              "    </tr>\n",
              "    <tr>\n",
              "      <td>1</td>\n",
              "      <td>0.789064</td>\n",
              "      <td>0.711095</td>\n",
              "      <td>0.471242</td>\n",
              "      <td>0.317883</td>\n",
              "      <td>0.582807</td>\n",
              "      <td>0.612032</td>\n",
              "      <td>0.617092</td>\n",
              "      <td>0.509908</td>\n",
              "      <td>00:05</td>\n",
              "    </tr>\n",
              "    <tr>\n",
              "      <td>2</td>\n",
              "      <td>0.739339</td>\n",
              "      <td>0.663551</td>\n",
              "      <td>0.380531</td>\n",
              "      <td>0.325583</td>\n",
              "      <td>0.432241</td>\n",
              "      <td>0.458488</td>\n",
              "      <td>0.635443</td>\n",
              "      <td>0.462404</td>\n",
              "      <td>00:05</td>\n",
              "    </tr>\n",
              "    <tr>\n",
              "      <td>3</td>\n",
              "      <td>0.693330</td>\n",
              "      <td>0.680785</td>\n",
              "      <td>0.421837</td>\n",
              "      <td>0.323539</td>\n",
              "      <td>0.435153</td>\n",
              "      <td>0.477437</td>\n",
              "      <td>0.661390</td>\n",
              "      <td>0.515542</td>\n",
              "      <td>00:05</td>\n",
              "    </tr>\n",
              "    <tr>\n",
              "      <td>4</td>\n",
              "      <td>0.663573</td>\n",
              "      <td>0.677220</td>\n",
              "      <td>0.426548</td>\n",
              "      <td>0.313508</td>\n",
              "      <td>0.438774</td>\n",
              "      <td>0.463231</td>\n",
              "      <td>0.660003</td>\n",
              "      <td>0.502943</td>\n",
              "      <td>00:05</td>\n",
              "    </tr>\n",
              "  </tbody>\n",
              "</table>"
            ]
          },
          "metadata": {}
        }
      ]
    },
    {
      "cell_type": "code",
      "source": [
        "model_save_path.mkdir(parents=True, exist_ok=True)\n",
        "# learn.export(f'{model_save_path}/all_col_concat_learner.pkl')\n",
        "learn.save(f'{model_save_path}/ulmfit_baseline_save.pkl')"
      ],
      "metadata": {
        "colab": {
          "base_uri": "https://localhost:8080/"
        },
        "id": "H-A8SVoAxv_R",
        "outputId": "cb7be6bd-96bb-4826-e258-830a4b9e9047"
      },
      "execution_count": 28,
      "outputs": [
        {
          "output_type": "execute_result",
          "data": {
            "text/plain": [
              "Path('/content/feedback-prize-english-language-learning_out/models/ulmfit_baseline_save.pkl.pth')"
            ]
          },
          "metadata": {},
          "execution_count": 28
        }
      ]
    },
    {
      "cell_type": "markdown",
      "source": [
        "### Test data"
      ],
      "metadata": {
        "id": "cb2jkB_PXRlJ"
      }
    },
    {
      "cell_type": "code",
      "source": [
        "test_df = pd.read_csv(path / 'test.csv')\n",
        "test_df.head()"
      ],
      "metadata": {
        "colab": {
          "base_uri": "https://localhost:8080/",
          "height": 344
        },
        "id": "tVHjh0YRXUA7",
        "outputId": "c5954825-4fe6-451a-f9da-067e6c7e07e7"
      },
      "execution_count": 29,
      "outputs": [
        {
          "output_type": "execute_result",
          "data": {
            "text/plain": [
              "        text_id  \\\n",
              "0  0000C359D63E   \n",
              "1  000BAD50D026   \n",
              "2  00367BB2546B   \n",
              "\n",
              "                                                                                                                                                                                                                                                                                                                                                                                                                                                                                                                                                                                                                 full_text  \n",
              "0  when a person has no experience on a job their is always going to be good people to help you and try to explane the job you need to get done in life you were not born with knowing everything. Life is bassicly about learing new things every single day even though without experience because life is simple and we must live happy and around with the people we love. When a person thinks they know everything in life they dont do good because they trying to make the other person less then others you must be kind to those the dont have experience because you may not know some day you will go to a ...  \n",
              "1  Do you think students would benefit from being able attend classes from home?\\n\\nYes! its benefit for student who attend classes from home. Because some student want to attend classes from home because they thinks it's very important for them . And they think they can learned fast, and understand than they student who attend classes from school. For example my friend told me that she's attand classes from home it's good for her, because they is some subject she didn't understand when she attend classes from school but when she attend the home classes she good for that subject. she like sci...  \n",
              "2  Thomas Jefferson once states that \"it is wonderful how much we can get done when we are always doing something,I agree to this statement. Some people say that it is always better to always be doing something than to be inactive and so nothing at all to chase after on your dreams. always doing something lets you feel a sense of accomplishment,it makes you want to strive to do even more than what you did,you can also learn something along the way.\\n\\nThe first reason that always doing is better than doing nothing is that it gives you a sense of you accomplishing something. when you finish a ...  "
            ],
            "text/html": [
              "\n",
              "  <div id=\"df-8ffefcb2-4216-4cd0-89c8-beea066e85b6\">\n",
              "    <div class=\"colab-df-container\">\n",
              "      <div>\n",
              "<style scoped>\n",
              "    .dataframe tbody tr th:only-of-type {\n",
              "        vertical-align: middle;\n",
              "    }\n",
              "\n",
              "    .dataframe tbody tr th {\n",
              "        vertical-align: top;\n",
              "    }\n",
              "\n",
              "    .dataframe thead th {\n",
              "        text-align: right;\n",
              "    }\n",
              "</style>\n",
              "<table border=\"1\" class=\"dataframe\">\n",
              "  <thead>\n",
              "    <tr style=\"text-align: right;\">\n",
              "      <th></th>\n",
              "      <th>text_id</th>\n",
              "      <th>full_text</th>\n",
              "    </tr>\n",
              "  </thead>\n",
              "  <tbody>\n",
              "    <tr>\n",
              "      <th>0</th>\n",
              "      <td>0000C359D63E</td>\n",
              "      <td>when a person has no experience on a job their is always going to be good people to help you and try to explane the job you need to get done in life you were not born with knowing everything. Life is bassicly about learing new things every single day even though without experience because life is simple and we must live happy and around with the people we love. When a person thinks they know everything in life they dont do good because they trying to make the other person less then others you must be kind to those the dont have experience because you may not know some day you will go to a ...</td>\n",
              "    </tr>\n",
              "    <tr>\n",
              "      <th>1</th>\n",
              "      <td>000BAD50D026</td>\n",
              "      <td>Do you think students would benefit from being able attend classes from home?\\n\\nYes! its benefit for student who attend classes from home. Because some student want to attend classes from home because they thinks it's very important for them . And they think they can learned fast, and understand than they student who attend classes from school. For example my friend told me that she's attand classes from home it's good for her, because they is some subject she didn't understand when she attend classes from school but when she attend the home classes she good for that subject. she like sci...</td>\n",
              "    </tr>\n",
              "    <tr>\n",
              "      <th>2</th>\n",
              "      <td>00367BB2546B</td>\n",
              "      <td>Thomas Jefferson once states that \"it is wonderful how much we can get done when we are always doing something,I agree to this statement. Some people say that it is always better to always be doing something than to be inactive and so nothing at all to chase after on your dreams. always doing something lets you feel a sense of accomplishment,it makes you want to strive to do even more than what you did,you can also learn something along the way.\\n\\nThe first reason that always doing is better than doing nothing is that it gives you a sense of you accomplishing something. when you finish a ...</td>\n",
              "    </tr>\n",
              "  </tbody>\n",
              "</table>\n",
              "</div>\n",
              "      <button class=\"colab-df-convert\" onclick=\"convertToInteractive('df-8ffefcb2-4216-4cd0-89c8-beea066e85b6')\"\n",
              "              title=\"Convert this dataframe to an interactive table.\"\n",
              "              style=\"display:none;\">\n",
              "        \n",
              "  <svg xmlns=\"http://www.w3.org/2000/svg\" height=\"24px\"viewBox=\"0 0 24 24\"\n",
              "       width=\"24px\">\n",
              "    <path d=\"M0 0h24v24H0V0z\" fill=\"none\"/>\n",
              "    <path d=\"M18.56 5.44l.94 2.06.94-2.06 2.06-.94-2.06-.94-.94-2.06-.94 2.06-2.06.94zm-11 1L8.5 8.5l.94-2.06 2.06-.94-2.06-.94L8.5 2.5l-.94 2.06-2.06.94zm10 10l.94 2.06.94-2.06 2.06-.94-2.06-.94-.94-2.06-.94 2.06-2.06.94z\"/><path d=\"M17.41 7.96l-1.37-1.37c-.4-.4-.92-.59-1.43-.59-.52 0-1.04.2-1.43.59L10.3 9.45l-7.72 7.72c-.78.78-.78 2.05 0 2.83L4 21.41c.39.39.9.59 1.41.59.51 0 1.02-.2 1.41-.59l7.78-7.78 2.81-2.81c.8-.78.8-2.07 0-2.86zM5.41 20L4 18.59l7.72-7.72 1.47 1.35L5.41 20z\"/>\n",
              "  </svg>\n",
              "      </button>\n",
              "      \n",
              "  <style>\n",
              "    .colab-df-container {\n",
              "      display:flex;\n",
              "      flex-wrap:wrap;\n",
              "      gap: 12px;\n",
              "    }\n",
              "\n",
              "    .colab-df-convert {\n",
              "      background-color: #E8F0FE;\n",
              "      border: none;\n",
              "      border-radius: 50%;\n",
              "      cursor: pointer;\n",
              "      display: none;\n",
              "      fill: #1967D2;\n",
              "      height: 32px;\n",
              "      padding: 0 0 0 0;\n",
              "      width: 32px;\n",
              "    }\n",
              "\n",
              "    .colab-df-convert:hover {\n",
              "      background-color: #E2EBFA;\n",
              "      box-shadow: 0px 1px 2px rgba(60, 64, 67, 0.3), 0px 1px 3px 1px rgba(60, 64, 67, 0.15);\n",
              "      fill: #174EA6;\n",
              "    }\n",
              "\n",
              "    [theme=dark] .colab-df-convert {\n",
              "      background-color: #3B4455;\n",
              "      fill: #D2E3FC;\n",
              "    }\n",
              "\n",
              "    [theme=dark] .colab-df-convert:hover {\n",
              "      background-color: #434B5C;\n",
              "      box-shadow: 0px 1px 3px 1px rgba(0, 0, 0, 0.15);\n",
              "      filter: drop-shadow(0px 1px 2px rgba(0, 0, 0, 0.3));\n",
              "      fill: #FFFFFF;\n",
              "    }\n",
              "  </style>\n",
              "\n",
              "      <script>\n",
              "        const buttonEl =\n",
              "          document.querySelector('#df-8ffefcb2-4216-4cd0-89c8-beea066e85b6 button.colab-df-convert');\n",
              "        buttonEl.style.display =\n",
              "          google.colab.kernel.accessAllowed ? 'block' : 'none';\n",
              "\n",
              "        async function convertToInteractive(key) {\n",
              "          const element = document.querySelector('#df-8ffefcb2-4216-4cd0-89c8-beea066e85b6');\n",
              "          const dataTable =\n",
              "            await google.colab.kernel.invokeFunction('convertToInteractive',\n",
              "                                                     [key], {});\n",
              "          if (!dataTable) return;\n",
              "\n",
              "          const docLinkHtml = 'Like what you see? Visit the ' +\n",
              "            '<a target=\"_blank\" href=https://colab.research.google.com/notebooks/data_table.ipynb>data table notebook</a>'\n",
              "            + ' to learn more about interactive tables.';\n",
              "          element.innerHTML = '';\n",
              "          dataTable['output_type'] = 'display_data';\n",
              "          await google.colab.output.renderOutput(dataTable, element);\n",
              "          const docLink = document.createElement('div');\n",
              "          docLink.innerHTML = docLinkHtml;\n",
              "          element.appendChild(docLink);\n",
              "        }\n",
              "      </script>\n",
              "    </div>\n",
              "  </div>\n",
              "  "
            ]
          },
          "metadata": {},
          "execution_count": 29
        }
      ]
    },
    {
      "cell_type": "code",
      "source": [
        "test_df.rename(columns = {'full_text':'text'}, inplace = True)\n",
        "tst_dl = dls.test_dl(test_df)\n",
        "tst_dl.show_batch()"
      ],
      "metadata": {
        "colab": {
          "base_uri": "https://localhost:8080/",
          "height": 352
        },
        "id": "DliOTiBEXhMW",
        "outputId": "fc47dcf5-6480-4429-9859-58c47e8323cb"
      },
      "execution_count": 30,
      "outputs": [
        {
          "output_type": "display_data",
          "data": {
            "text/plain": [
              "<IPython.core.display.HTML object>"
            ],
            "text/html": [
              "<table border=\"1\" class=\"dataframe\">\n",
              "  <thead>\n",
              "    <tr style=\"text-align: right;\">\n",
              "      <th></th>\n",
              "      <th>text</th>\n",
              "    </tr>\n",
              "  </thead>\n",
              "  <tbody>\n",
              "    <tr>\n",
              "      <th>0</th>\n",
              "      <td>xxbos when a person has no experience on a job their is always going to be good people to help you and try to xxunk the job you need to get done in life you were not born with knowing everything . xxmaj life is xxunk about xxunk new things every single day even though without experience because life is simple and we must live happy and around with the people we love . xxmaj when a person thinks they know everything in life they do nt do good because they trying to make the other person less then others you must be kind to those the do nt have experience because you may not know some day you will go to a different country . xxmaj when you do nt know xxunk because you not from their so you going to need help from others to explain you about</td>\n",
              "    </tr>\n",
              "    <tr>\n",
              "      <th>1</th>\n",
              "      <td>xxbos xxmaj thomas xxmaj jefferson once states that \" it is wonderful how much we can get done when we are always doing something , i agree to this statement . xxmaj some people say that it is always better to always be doing something than to be inactive and so nothing at all to chase after on your dreams . always doing something lets you feel a sense of accomplishment , it makes you want to xxunk to do even more than what you did , you can also learn something along the way . \\n\\n xxmaj the first reason that always doing is better than doing nothing is that it gives you a sense of you accomplishing something . when you finish a task you feel successful with yourself in saying that you xxunk something and kept going . for example , when you graduate from school and</td>\n",
              "    </tr>\n",
              "    <tr>\n",
              "      <th>2</th>\n",
              "      <td>xxbos xxmaj do you think students would benefit from being able attend classes from home ? \\n\\n xxmaj yes ! its benefit for student who attend classes from home . xxmaj because some student want to attend classes from home because they thinks it 's very important for them . xxmaj and they think they can learned fast , and understand than they student who attend classes from school . xxmaj for example my friend told me that she 's xxunk classes from home it 's good for her , because they is some subject she did n't understand when she attend classes from school but when she attend the home classes she good for that subject . she like science she think science its important for her but she did n't understand anything any science but she understand science because she attend classes from home . xxmaj and some</td>\n",
              "    </tr>\n",
              "  </tbody>\n",
              "</table>"
            ]
          },
          "metadata": {}
        }
      ]
    },
    {
      "cell_type": "code",
      "source": [
        "probs,_,idxs = learn.get_preds(dl=tst_dl, with_decoded=True)\n",
        "probs"
      ],
      "metadata": {
        "colab": {
          "base_uri": "https://localhost:8080/",
          "height": 69
        },
        "id": "ExJdmhGzXdwr",
        "outputId": "57a0153c-293b-4121-99b6-30764efa25bf"
      },
      "execution_count": 31,
      "outputs": [
        {
          "output_type": "display_data",
          "data": {
            "text/plain": [
              "<IPython.core.display.HTML object>"
            ],
            "text/html": [
              "\n",
              "<style>\n",
              "    /* Turns off some styling */\n",
              "    progress {\n",
              "        /* gets rid of default border in Firefox and Opera. */\n",
              "        border: none;\n",
              "        /* Needs to be in here for Safari polyfill so background images work as expected. */\n",
              "        background-size: auto;\n",
              "    }\n",
              "    progress:not([value]), progress:not([value])::-webkit-progress-bar {\n",
              "        background: repeating-linear-gradient(45deg, #7e7e7e, #7e7e7e 10px, #5c5c5c 10px, #5c5c5c 20px);\n",
              "    }\n",
              "    .progress-bar-interrupted, .progress-bar-interrupted::-webkit-progress-bar {\n",
              "        background: #F44336;\n",
              "    }\n",
              "</style>\n"
            ]
          },
          "metadata": {}
        },
        {
          "output_type": "display_data",
          "data": {
            "text/plain": [
              "<IPython.core.display.HTML object>"
            ],
            "text/html": []
          },
          "metadata": {}
        },
        {
          "output_type": "execute_result",
          "data": {
            "text/plain": [
              "tensor([[2.8516, 3.0000, 2.8379, 3.1230, 2.7227, 2.8906],\n",
              "        [2.3730, 2.6406, 2.3242, 2.7949, 2.2793, 2.6387],\n",
              "        [3.1152, 3.1152, 2.9414, 2.7949, 2.7305, 3.0527]])"
            ]
          },
          "metadata": {},
          "execution_count": 31
        }
      ]
    },
    {
      "cell_type": "code",
      "source": [
        "# column names for probabilities\n",
        "probs_df = pd.DataFrame(probs.numpy(),columns = ['cohesion','syntax','vocabulary',\n",
        "                                                 'phraseology','grammar','conventions'])\n",
        "probs_df"
      ],
      "metadata": {
        "colab": {
          "base_uri": "https://localhost:8080/",
          "height": 143
        },
        "id": "ei0rXD5iXuWF",
        "outputId": "e7910cad-77b5-42c0-cff2-604db6aa5e0c"
      },
      "execution_count": 32,
      "outputs": [
        {
          "output_type": "execute_result",
          "data": {
            "text/plain": [
              "   cohesion    syntax  vocabulary  phraseology   grammar  conventions\n",
              "0  2.851562  3.000000    2.837891     3.123047  2.722656     2.890625\n",
              "1  2.373047  2.640625    2.324219     2.794922  2.279297     2.638672\n",
              "2  3.115234  3.115234    2.941406     2.794922  2.730469     3.052734"
            ],
            "text/html": [
              "\n",
              "  <div id=\"df-d0d93524-feba-4c1f-a867-128835a807ee\">\n",
              "    <div class=\"colab-df-container\">\n",
              "      <div>\n",
              "<style scoped>\n",
              "    .dataframe tbody tr th:only-of-type {\n",
              "        vertical-align: middle;\n",
              "    }\n",
              "\n",
              "    .dataframe tbody tr th {\n",
              "        vertical-align: top;\n",
              "    }\n",
              "\n",
              "    .dataframe thead th {\n",
              "        text-align: right;\n",
              "    }\n",
              "</style>\n",
              "<table border=\"1\" class=\"dataframe\">\n",
              "  <thead>\n",
              "    <tr style=\"text-align: right;\">\n",
              "      <th></th>\n",
              "      <th>cohesion</th>\n",
              "      <th>syntax</th>\n",
              "      <th>vocabulary</th>\n",
              "      <th>phraseology</th>\n",
              "      <th>grammar</th>\n",
              "      <th>conventions</th>\n",
              "    </tr>\n",
              "  </thead>\n",
              "  <tbody>\n",
              "    <tr>\n",
              "      <th>0</th>\n",
              "      <td>2.851562</td>\n",
              "      <td>3.000000</td>\n",
              "      <td>2.837891</td>\n",
              "      <td>3.123047</td>\n",
              "      <td>2.722656</td>\n",
              "      <td>2.890625</td>\n",
              "    </tr>\n",
              "    <tr>\n",
              "      <th>1</th>\n",
              "      <td>2.373047</td>\n",
              "      <td>2.640625</td>\n",
              "      <td>2.324219</td>\n",
              "      <td>2.794922</td>\n",
              "      <td>2.279297</td>\n",
              "      <td>2.638672</td>\n",
              "    </tr>\n",
              "    <tr>\n",
              "      <th>2</th>\n",
              "      <td>3.115234</td>\n",
              "      <td>3.115234</td>\n",
              "      <td>2.941406</td>\n",
              "      <td>2.794922</td>\n",
              "      <td>2.730469</td>\n",
              "      <td>3.052734</td>\n",
              "    </tr>\n",
              "  </tbody>\n",
              "</table>\n",
              "</div>\n",
              "      <button class=\"colab-df-convert\" onclick=\"convertToInteractive('df-d0d93524-feba-4c1f-a867-128835a807ee')\"\n",
              "              title=\"Convert this dataframe to an interactive table.\"\n",
              "              style=\"display:none;\">\n",
              "        \n",
              "  <svg xmlns=\"http://www.w3.org/2000/svg\" height=\"24px\"viewBox=\"0 0 24 24\"\n",
              "       width=\"24px\">\n",
              "    <path d=\"M0 0h24v24H0V0z\" fill=\"none\"/>\n",
              "    <path d=\"M18.56 5.44l.94 2.06.94-2.06 2.06-.94-2.06-.94-.94-2.06-.94 2.06-2.06.94zm-11 1L8.5 8.5l.94-2.06 2.06-.94-2.06-.94L8.5 2.5l-.94 2.06-2.06.94zm10 10l.94 2.06.94-2.06 2.06-.94-2.06-.94-.94-2.06-.94 2.06-2.06.94z\"/><path d=\"M17.41 7.96l-1.37-1.37c-.4-.4-.92-.59-1.43-.59-.52 0-1.04.2-1.43.59L10.3 9.45l-7.72 7.72c-.78.78-.78 2.05 0 2.83L4 21.41c.39.39.9.59 1.41.59.51 0 1.02-.2 1.41-.59l7.78-7.78 2.81-2.81c.8-.78.8-2.07 0-2.86zM5.41 20L4 18.59l7.72-7.72 1.47 1.35L5.41 20z\"/>\n",
              "  </svg>\n",
              "      </button>\n",
              "      \n",
              "  <style>\n",
              "    .colab-df-container {\n",
              "      display:flex;\n",
              "      flex-wrap:wrap;\n",
              "      gap: 12px;\n",
              "    }\n",
              "\n",
              "    .colab-df-convert {\n",
              "      background-color: #E8F0FE;\n",
              "      border: none;\n",
              "      border-radius: 50%;\n",
              "      cursor: pointer;\n",
              "      display: none;\n",
              "      fill: #1967D2;\n",
              "      height: 32px;\n",
              "      padding: 0 0 0 0;\n",
              "      width: 32px;\n",
              "    }\n",
              "\n",
              "    .colab-df-convert:hover {\n",
              "      background-color: #E2EBFA;\n",
              "      box-shadow: 0px 1px 2px rgba(60, 64, 67, 0.3), 0px 1px 3px 1px rgba(60, 64, 67, 0.15);\n",
              "      fill: #174EA6;\n",
              "    }\n",
              "\n",
              "    [theme=dark] .colab-df-convert {\n",
              "      background-color: #3B4455;\n",
              "      fill: #D2E3FC;\n",
              "    }\n",
              "\n",
              "    [theme=dark] .colab-df-convert:hover {\n",
              "      background-color: #434B5C;\n",
              "      box-shadow: 0px 1px 3px 1px rgba(0, 0, 0, 0.15);\n",
              "      filter: drop-shadow(0px 1px 2px rgba(0, 0, 0, 0.3));\n",
              "      fill: #FFFFFF;\n",
              "    }\n",
              "  </style>\n",
              "\n",
              "      <script>\n",
              "        const buttonEl =\n",
              "          document.querySelector('#df-d0d93524-feba-4c1f-a867-128835a807ee button.colab-df-convert');\n",
              "        buttonEl.style.display =\n",
              "          google.colab.kernel.accessAllowed ? 'block' : 'none';\n",
              "\n",
              "        async function convertToInteractive(key) {\n",
              "          const element = document.querySelector('#df-d0d93524-feba-4c1f-a867-128835a807ee');\n",
              "          const dataTable =\n",
              "            await google.colab.kernel.invokeFunction('convertToInteractive',\n",
              "                                                     [key], {});\n",
              "          if (!dataTable) return;\n",
              "\n",
              "          const docLinkHtml = 'Like what you see? Visit the ' +\n",
              "            '<a target=\"_blank\" href=https://colab.research.google.com/notebooks/data_table.ipynb>data table notebook</a>'\n",
              "            + ' to learn more about interactive tables.';\n",
              "          element.innerHTML = '';\n",
              "          dataTable['output_type'] = 'display_data';\n",
              "          await google.colab.output.renderOutput(dataTable, element);\n",
              "          const docLink = document.createElement('div');\n",
              "          docLink.innerHTML = docLinkHtml;\n",
              "          element.appendChild(docLink);\n",
              "        }\n",
              "      </script>\n",
              "    </div>\n",
              "  </div>\n",
              "  "
            ]
          },
          "metadata": {},
          "execution_count": 32
        }
      ]
    },
    {
      "cell_type": "code",
      "source": [
        "probs_df[\"text_id\"] = test_df[\"text_id\"]\n",
        "probs_df.to_csv('submission.csv', index=False)\n",
        "!head submission.csv"
      ],
      "metadata": {
        "colab": {
          "base_uri": "https://localhost:8080/"
        },
        "id": "dROUxCwTYbZ2",
        "outputId": "ff8c2a67-75a3-40dd-eda9-0d99d403581c"
      },
      "execution_count": 33,
      "outputs": [
        {
          "output_type": "stream",
          "name": "stdout",
          "text": [
            "cohesion,syntax,vocabulary,phraseology,grammar,conventions,text_id\n",
            "2.8515625,3.0,2.8378906,3.1230469,2.7226562,2.890625,0000C359D63E\n",
            "2.3730469,2.640625,2.3242188,2.7949219,2.2792969,2.6386719,000BAD50D026\n",
            "3.1152344,3.1152344,2.9414062,2.7949219,2.7304688,3.0527344,00367BB2546B\n"
          ]
        }
      ]
    },
    {
      "cell_type": "code",
      "source": [
        "if not iskaggle:\n",
        "    push_notebook('saan', comp,\n",
        "                  title='Feedback Prize lang learn: ulmfit baseline',\n",
        "                  file='/content/drive/MyDrive/Colab Notebooks/feedback_prize_v3_ulmfit_baseline.ipynb',\n",
        "                  competition=comp, private=False, gpu=True)"
      ],
      "metadata": {
        "colab": {
          "base_uri": "https://localhost:8080/"
        },
        "id": "gfI8E1XyYtOm",
        "outputId": "a42ef238-90f3-432b-dd34-dc1539b9bb81"
      },
      "execution_count": 34,
      "outputs": [
        {
          "output_type": "stream",
          "name": "stdout",
          "text": [
            "Your kernel title does not resolve to the specified id. This may result in surprising behavior. We suggest making your title something that resolves to the specified id. See https://en.wikipedia.org/wiki/Clean_URL#Slug for more information on how slugs are determined.\n",
            "Kernel version 1 successfully pushed.  Please check progress at https://www.kaggle.com/code/saansd2003/feedback-prize-lang-learn-ulmfit-baseline\n"
          ]
        }
      ]
    }
  ]
}