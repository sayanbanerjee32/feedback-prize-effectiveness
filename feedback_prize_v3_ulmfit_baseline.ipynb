{
  "nbformat": 4,
  "nbformat_minor": 0,
  "metadata": {
    "colab": {
      "provenance": [],
      "collapsed_sections": [],
      "authorship_tag": "ABX9TyMq/OsYlBZNVVisH8AlApo2",
      "include_colab_link": true
    },
    "kernelspec": {
      "name": "python3",
      "display_name": "Python 3"
    },
    "language_info": {
      "name": "python"
    },
    "accelerator": "GPU",
    "gpuClass": "standard"
  },
  "cells": [
    {
      "cell_type": "markdown",
      "metadata": {
        "id": "view-in-github",
        "colab_type": "text"
      },
      "source": [
        "<a href=\"https://colab.research.google.com/github/sayanbanerjee32/feedback-prize-effectiveness/blob/main/feedback_prize_v3_ulmfit_baseline.ipynb\" target=\"_parent\"><img src=\"https://colab.research.google.com/assets/colab-badge.svg\" alt=\"Open In Colab\"/></a>"
      ]
    },
    {
      "cell_type": "code",
      "execution_count": 1,
      "metadata": {
        "colab": {
          "base_uri": "https://localhost:8080/"
        },
        "id": "s_RVHFy-XSRj",
        "outputId": "98feca5a-9ae8-4f4e-f643-2bead5d6a1d8"
      },
      "outputs": [
        {
          "output_type": "stream",
          "name": "stdout",
          "text": [
            "\u001b[?25l\r\u001b[K     |███████                         | 10 kB 27.3 MB/s eta 0:00:01\r\u001b[K     |██████████████                  | 20 kB 24.2 MB/s eta 0:00:01\r\u001b[K     |█████████████████████           | 30 kB 11.0 MB/s eta 0:00:01\r\u001b[K     |████████████████████████████    | 40 kB 4.4 MB/s eta 0:00:01\r\u001b[K     |████████████████████████████████| 46 kB 2.7 MB/s \n",
            "\u001b[?25h"
          ]
        }
      ],
      "source": [
        "# install fastkaggle if not available\n",
        "!pip install -Uq fastai\n",
        "try: import fastkaggle\n",
        "except ModuleNotFoundError:\n",
        "    !pip install -Uq fastkaggle\n",
        "\n",
        "# !pip install -Uq 'timm>=0.6.2.dev'\n",
        "!pip install -Uq pynvml\n",
        "from fastkaggle import *"
      ]
    },
    {
      "cell_type": "code",
      "source": [
        "import os\n",
        "from pathlib import Path\n",
        "import fastai\n",
        "fastai.__version__"
      ],
      "metadata": {
        "colab": {
          "base_uri": "https://localhost:8080/",
          "height": 36
        },
        "id": "KGeBc2yCbSeC",
        "outputId": "66f1bd63-6874-4aa8-eb53-b96dafa123c8"
      },
      "execution_count": 2,
      "outputs": [
        {
          "output_type": "execute_result",
          "data": {
            "text/plain": [
              "'2.7.9'"
            ],
            "application/vnd.google.colaboratory.intrinsic+json": {
              "type": "string"
            }
          },
          "metadata": {},
          "execution_count": 2
        }
      ]
    },
    {
      "cell_type": "code",
      "source": [
        "# config depending on whether this is running on kaggle or collab\n",
        "# is_colab = True\n",
        "is_colab = not os.environ.get('KAGGLE_KERNEL_RUN_TYPE', '')\n",
        "comp = 'feedback-prize-english-language-learning'\n",
        "if is_colab:\n",
        "    model_save_path = Path('/content/'+comp+'_out/models')\n",
        "else:\n",
        "    model_save_path = Path('/kaggle/working/'+comp) #+'/models')"
      ],
      "metadata": {
        "id": "mnTACAbpbUvG"
      },
      "execution_count": 7,
      "outputs": []
    },
    {
      "cell_type": "code",
      "source": [
        "# import colab libraries\n",
        "if is_colab:\n",
        "    from google.colab import drive\n",
        "    drive.mount('/content/drive')"
      ],
      "metadata": {
        "colab": {
          "base_uri": "https://localhost:8080/"
        },
        "id": "ZIykCAnDbdYX",
        "outputId": "dd0998d8-975a-4796-b7c7-ace89f0c8b39"
      },
      "execution_count": 4,
      "outputs": [
        {
          "output_type": "stream",
          "name": "stdout",
          "text": [
            "Mounted at /content/drive\n"
          ]
        }
      ]
    },
    {
      "cell_type": "code",
      "source": [
        "# The Kaggle API client expects this file to be in ~/.kaggle,\n",
        "# so lets move it there.\n",
        "if is_colab:\n",
        "    !mkdir ~/.kaggle\n",
        "    !cp /content/drive/MyDrive/Kaggle_api_auth/kaggle.json ~/.kaggle/"
      ],
      "metadata": {
        "id": "htVIuQoubfNX"
      },
      "execution_count": 5,
      "outputs": []
    },
    {
      "cell_type": "code",
      "source": [
        "# This permissions change avoids a warning on Kaggle tool startup.\n",
        "if is_colab:\n",
        "    !chmod 600 ~/.kaggle/kaggle.json"
      ],
      "metadata": {
        "id": "1uJ_9VMPbj6w"
      },
      "execution_count": 6,
      "outputs": []
    },
    {
      "cell_type": "code",
      "source": [
        "path = setup_comp(comp)\n",
        "path"
      ],
      "metadata": {
        "colab": {
          "base_uri": "https://localhost:8080/"
        },
        "id": "CoOIVsuGblvn",
        "outputId": "3bb7e014-f328-4c8e-bb84-ecfe37a8a2a1"
      },
      "execution_count": 8,
      "outputs": [
        {
          "output_type": "stream",
          "name": "stdout",
          "text": [
            "Downloading feedback-prize-english-language-learning.zip to /content\n"
          ]
        },
        {
          "output_type": "stream",
          "name": "stderr",
          "text": [
            "100%|██████████| 2.80M/2.80M [00:00<00:00, 188MB/s]"
          ]
        },
        {
          "output_type": "stream",
          "name": "stdout",
          "text": [
            "\n"
          ]
        },
        {
          "output_type": "stream",
          "name": "stderr",
          "text": [
            "\n"
          ]
        },
        {
          "output_type": "execute_result",
          "data": {
            "text/plain": [
              "Path('feedback-prize-english-language-learning')"
            ]
          },
          "metadata": {},
          "execution_count": 8
        }
      ]
    },
    {
      "cell_type": "code",
      "source": [
        "from fastai.text.all import *\n",
        "set_seed(32)"
      ],
      "metadata": {
        "id": "ENXdIxiHb_tw"
      },
      "execution_count": 9,
      "outputs": []
    },
    {
      "cell_type": "markdown",
      "source": [
        "### Language model for original text"
      ],
      "metadata": {
        "id": "-ugRuWJvcyMf"
      }
    },
    {
      "cell_type": "code",
      "source": [
        "# read train csv\n",
        "train_df = pd.read_csv(path / 'train.csv')\n",
        "train_df.head()"
      ],
      "metadata": {
        "colab": {
          "base_uri": "https://localhost:8080/",
          "height": 944
        },
        "id": "dCdJIPnVdVPi",
        "outputId": "46d50e23-41f6-4ad1-edb0-dfc8b40ad119"
      },
      "execution_count": 11,
      "outputs": [
        {
          "output_type": "execute_result",
          "data": {
            "text/plain": [
              "        text_id  \\\n",
              "0  0016926B079C   \n",
              "1  0022683E9EA5   \n",
              "2  00299B378633   \n",
              "3  003885A45F42   \n",
              "4  0049B1DF5CCC   \n",
              "\n",
              "                                                                                                                                                                                                                                                                                                                                                                                                                                                                                                                                                                                                                 full_text  \\\n",
              "0  I think that students would benefit from learning at home,because they wont have to change and get up early in the morning to shower and do there hair. taking only classes helps them because at there house they'll be pay more attention. they will be comfortable at home.\\n\\nThe hardest part of school is getting ready. you wake up go brush your teeth and go to your closet and look at your cloths. after you think you picked a outfit u go look in the mirror and youll either not like it or you look and see a stain. Then you'll have to change. with the online classes you can wear anything and st...   \n",
              "1  When a problem is a change you have to let it do the best on you no matter what is happening it can change your mind. sometimes you need to wake up and look what is around you because problems are the best way to change what you want to change along time ago. A\\n\\nproblem is a change for you because it can make you see different and help you to understand how tings wok.\\n\\nFirst of all it can make you see different then the others. For example i remember that when i came to the United States i think that nothing was going to change me because i think that nothing was going to change me bec...   \n",
              "2  Dear, Principal\\n\\nIf u change the school policy of having a grade b average that unfair. Because many students have a C average. So that means that they cant go out for sports or other activities they want to do bad. That's like taking everything they have. What if kids want to become good at something, but now they cant because of that school policy. If they have a C average they should still be able to go out for sports or activities. A C average isn't that bad, its higher then a D average. If the school police was if you have a D average of lower they shouldn't do sports or activities....   \n",
              "3  The best time in life is when you become yourself. I agree that the greatest accomplishment, is when you be yourself in a world that constantly trying to make you something else. Because you make your own choices, you become more happy, and you respect others.\\n\\nFirst, you make your own choices by being yourself. Becoming yourself means that you should be able to make your own choices and not be shy or afraid of what you're doing. Because you're defining yourself by doing those things that you want. Some people follow others, therefore, they don't make their own choices. People are afraid...   \n",
              "4  Small act of kindness can impact in other people can change people to become better persons you can have an impact of kindess with a homeles that can change his life or with some who needed they are going to know you are a nice person if you are a nice person everywhere you go people is going to like your personality so you have to be a nice person with others like a old women triying to cross the road thats a impact of kindness when you do that you feel a greate person you can change people in the way they think by helping others treating nice other people give them some advice when you s...   \n",
              "\n",
              "   cohesion  syntax  vocabulary  phraseology  grammar  conventions  \n",
              "0       3.5     3.5         3.0          3.0      4.0          3.0  \n",
              "1       2.5     2.5         3.0          2.0      2.0          2.5  \n",
              "2       3.0     3.5         3.0          3.0      3.0          2.5  \n",
              "3       4.5     4.5         4.5          4.5      4.0          5.0  \n",
              "4       2.5     3.0         3.0          3.0      2.5          2.5  "
            ],
            "text/html": [
              "\n",
              "  <div id=\"df-5e29abaf-a2f6-43d7-afb2-bf0becdc01fa\">\n",
              "    <div class=\"colab-df-container\">\n",
              "      <div>\n",
              "<style scoped>\n",
              "    .dataframe tbody tr th:only-of-type {\n",
              "        vertical-align: middle;\n",
              "    }\n",
              "\n",
              "    .dataframe tbody tr th {\n",
              "        vertical-align: top;\n",
              "    }\n",
              "\n",
              "    .dataframe thead th {\n",
              "        text-align: right;\n",
              "    }\n",
              "</style>\n",
              "<table border=\"1\" class=\"dataframe\">\n",
              "  <thead>\n",
              "    <tr style=\"text-align: right;\">\n",
              "      <th></th>\n",
              "      <th>text_id</th>\n",
              "      <th>full_text</th>\n",
              "      <th>cohesion</th>\n",
              "      <th>syntax</th>\n",
              "      <th>vocabulary</th>\n",
              "      <th>phraseology</th>\n",
              "      <th>grammar</th>\n",
              "      <th>conventions</th>\n",
              "    </tr>\n",
              "  </thead>\n",
              "  <tbody>\n",
              "    <tr>\n",
              "      <th>0</th>\n",
              "      <td>0016926B079C</td>\n",
              "      <td>I think that students would benefit from learning at home,because they wont have to change and get up early in the morning to shower and do there hair. taking only classes helps them because at there house they'll be pay more attention. they will be comfortable at home.\\n\\nThe hardest part of school is getting ready. you wake up go brush your teeth and go to your closet and look at your cloths. after you think you picked a outfit u go look in the mirror and youll either not like it or you look and see a stain. Then you'll have to change. with the online classes you can wear anything and st...</td>\n",
              "      <td>3.5</td>\n",
              "      <td>3.5</td>\n",
              "      <td>3.0</td>\n",
              "      <td>3.0</td>\n",
              "      <td>4.0</td>\n",
              "      <td>3.0</td>\n",
              "    </tr>\n",
              "    <tr>\n",
              "      <th>1</th>\n",
              "      <td>0022683E9EA5</td>\n",
              "      <td>When a problem is a change you have to let it do the best on you no matter what is happening it can change your mind. sometimes you need to wake up and look what is around you because problems are the best way to change what you want to change along time ago. A\\n\\nproblem is a change for you because it can make you see different and help you to understand how tings wok.\\n\\nFirst of all it can make you see different then the others. For example i remember that when i came to the United States i think that nothing was going to change me because i think that nothing was going to change me bec...</td>\n",
              "      <td>2.5</td>\n",
              "      <td>2.5</td>\n",
              "      <td>3.0</td>\n",
              "      <td>2.0</td>\n",
              "      <td>2.0</td>\n",
              "      <td>2.5</td>\n",
              "    </tr>\n",
              "    <tr>\n",
              "      <th>2</th>\n",
              "      <td>00299B378633</td>\n",
              "      <td>Dear, Principal\\n\\nIf u change the school policy of having a grade b average that unfair. Because many students have a C average. So that means that they cant go out for sports or other activities they want to do bad. That's like taking everything they have. What if kids want to become good at something, but now they cant because of that school policy. If they have a C average they should still be able to go out for sports or activities. A C average isn't that bad, its higher then a D average. If the school police was if you have a D average of lower they shouldn't do sports or activities....</td>\n",
              "      <td>3.0</td>\n",
              "      <td>3.5</td>\n",
              "      <td>3.0</td>\n",
              "      <td>3.0</td>\n",
              "      <td>3.0</td>\n",
              "      <td>2.5</td>\n",
              "    </tr>\n",
              "    <tr>\n",
              "      <th>3</th>\n",
              "      <td>003885A45F42</td>\n",
              "      <td>The best time in life is when you become yourself. I agree that the greatest accomplishment, is when you be yourself in a world that constantly trying to make you something else. Because you make your own choices, you become more happy, and you respect others.\\n\\nFirst, you make your own choices by being yourself. Becoming yourself means that you should be able to make your own choices and not be shy or afraid of what you're doing. Because you're defining yourself by doing those things that you want. Some people follow others, therefore, they don't make their own choices. People are afraid...</td>\n",
              "      <td>4.5</td>\n",
              "      <td>4.5</td>\n",
              "      <td>4.5</td>\n",
              "      <td>4.5</td>\n",
              "      <td>4.0</td>\n",
              "      <td>5.0</td>\n",
              "    </tr>\n",
              "    <tr>\n",
              "      <th>4</th>\n",
              "      <td>0049B1DF5CCC</td>\n",
              "      <td>Small act of kindness can impact in other people can change people to become better persons you can have an impact of kindess with a homeles that can change his life or with some who needed they are going to know you are a nice person if you are a nice person everywhere you go people is going to like your personality so you have to be a nice person with others like a old women triying to cross the road thats a impact of kindness when you do that you feel a greate person you can change people in the way they think by helping others treating nice other people give them some advice when you s...</td>\n",
              "      <td>2.5</td>\n",
              "      <td>3.0</td>\n",
              "      <td>3.0</td>\n",
              "      <td>3.0</td>\n",
              "      <td>2.5</td>\n",
              "      <td>2.5</td>\n",
              "    </tr>\n",
              "  </tbody>\n",
              "</table>\n",
              "</div>\n",
              "      <button class=\"colab-df-convert\" onclick=\"convertToInteractive('df-5e29abaf-a2f6-43d7-afb2-bf0becdc01fa')\"\n",
              "              title=\"Convert this dataframe to an interactive table.\"\n",
              "              style=\"display:none;\">\n",
              "        \n",
              "  <svg xmlns=\"http://www.w3.org/2000/svg\" height=\"24px\"viewBox=\"0 0 24 24\"\n",
              "       width=\"24px\">\n",
              "    <path d=\"M0 0h24v24H0V0z\" fill=\"none\"/>\n",
              "    <path d=\"M18.56 5.44l.94 2.06.94-2.06 2.06-.94-2.06-.94-.94-2.06-.94 2.06-2.06.94zm-11 1L8.5 8.5l.94-2.06 2.06-.94-2.06-.94L8.5 2.5l-.94 2.06-2.06.94zm10 10l.94 2.06.94-2.06 2.06-.94-2.06-.94-.94-2.06-.94 2.06-2.06.94z\"/><path d=\"M17.41 7.96l-1.37-1.37c-.4-.4-.92-.59-1.43-.59-.52 0-1.04.2-1.43.59L10.3 9.45l-7.72 7.72c-.78.78-.78 2.05 0 2.83L4 21.41c.39.39.9.59 1.41.59.51 0 1.02-.2 1.41-.59l7.78-7.78 2.81-2.81c.8-.78.8-2.07 0-2.86zM5.41 20L4 18.59l7.72-7.72 1.47 1.35L5.41 20z\"/>\n",
              "  </svg>\n",
              "      </button>\n",
              "      \n",
              "  <style>\n",
              "    .colab-df-container {\n",
              "      display:flex;\n",
              "      flex-wrap:wrap;\n",
              "      gap: 12px;\n",
              "    }\n",
              "\n",
              "    .colab-df-convert {\n",
              "      background-color: #E8F0FE;\n",
              "      border: none;\n",
              "      border-radius: 50%;\n",
              "      cursor: pointer;\n",
              "      display: none;\n",
              "      fill: #1967D2;\n",
              "      height: 32px;\n",
              "      padding: 0 0 0 0;\n",
              "      width: 32px;\n",
              "    }\n",
              "\n",
              "    .colab-df-convert:hover {\n",
              "      background-color: #E2EBFA;\n",
              "      box-shadow: 0px 1px 2px rgba(60, 64, 67, 0.3), 0px 1px 3px 1px rgba(60, 64, 67, 0.15);\n",
              "      fill: #174EA6;\n",
              "    }\n",
              "\n",
              "    [theme=dark] .colab-df-convert {\n",
              "      background-color: #3B4455;\n",
              "      fill: #D2E3FC;\n",
              "    }\n",
              "\n",
              "    [theme=dark] .colab-df-convert:hover {\n",
              "      background-color: #434B5C;\n",
              "      box-shadow: 0px 1px 3px 1px rgba(0, 0, 0, 0.15);\n",
              "      filter: drop-shadow(0px 1px 2px rgba(0, 0, 0, 0.3));\n",
              "      fill: #FFFFFF;\n",
              "    }\n",
              "  </style>\n",
              "\n",
              "      <script>\n",
              "        const buttonEl =\n",
              "          document.querySelector('#df-5e29abaf-a2f6-43d7-afb2-bf0becdc01fa button.colab-df-convert');\n",
              "        buttonEl.style.display =\n",
              "          google.colab.kernel.accessAllowed ? 'block' : 'none';\n",
              "\n",
              "        async function convertToInteractive(key) {\n",
              "          const element = document.querySelector('#df-5e29abaf-a2f6-43d7-afb2-bf0becdc01fa');\n",
              "          const dataTable =\n",
              "            await google.colab.kernel.invokeFunction('convertToInteractive',\n",
              "                                                     [key], {});\n",
              "          if (!dataTable) return;\n",
              "\n",
              "          const docLinkHtml = 'Like what you see? Visit the ' +\n",
              "            '<a target=\"_blank\" href=https://colab.research.google.com/notebooks/data_table.ipynb>data table notebook</a>'\n",
              "            + ' to learn more about interactive tables.';\n",
              "          element.innerHTML = '';\n",
              "          dataTable['output_type'] = 'display_data';\n",
              "          await google.colab.output.renderOutput(dataTable, element);\n",
              "          const docLink = document.createElement('div');\n",
              "          docLink.innerHTML = docLinkHtml;\n",
              "          element.appendChild(docLink);\n",
              "        }\n",
              "      </script>\n",
              "    </div>\n",
              "  </div>\n",
              "  "
            ]
          },
          "metadata": {},
          "execution_count": 11
        }
      ]
    },
    {
      "cell_type": "code",
      "source": [
        "# In this cell fastai TextDataLoader functions are overridden to allow taking output \n",
        "# directory as input so that the toknised data is not written in data input directory\n",
        "# in Kaggle, data input directory is read-only\n",
        "from fastai.text.core import _tokenize_files\n",
        "@delegates(_tokenize_files)\n",
        "def tokenize_folderOP(path, extensions=None, folders=None,\n",
        "                      output_dir=None, skip_if_exists=True, **kwargs):\n",
        "    \"\"\"replacement of fastai.text.core.tokenize_folder so that it passes\n",
        "     output_dir as input to _tokenize_files\"\"\"\n",
        "    path,extensions = Path(path),ifnone(extensions, ['.txt'])\n",
        "    files = get_files(path, extensions=extensions, recurse=True, folders=folders)\n",
        "    def _f(i,output_dir): return output_dir/files[i].relative_to(path)\n",
        "    return _tokenize_files(_f, files, path, output_dir, \n",
        "                           skip_if_exists=skip_if_exists, **kwargs)\n",
        "\n",
        "class TokenizerOP(Tokenizer):\n",
        "    \"\"\"Wrapper class for fastai.text.core.Tokenizer class to override\n",
        "    from_folder method to take output_dir as input and call the overridden\n",
        "    method tokenize_folderOP\"\"\"\n",
        "    def __init__(self, tok, rules=None, counter=None,\n",
        "                 lengths=None, mode=None, sep=' '):\n",
        "        super().__init__(tok, rules=rules, counter=counter,\n",
        "                 lengths=lengths, mode=mode, sep=sep)\n",
        "    \n",
        "    @classmethod\n",
        "    @delegates(tokenize_folderOP, keep=True)\n",
        "    def from_folder(cls, path, tok=None, rules=None, output_dir = None, **kwargs):\n",
        "        path = Path(path)\n",
        "        if tok is None: tok = WordTokenizer()\n",
        "        output_dir = tokenize_folderOP(path, tok=tok, rules=rules, \n",
        "                                       skip_if_exists = False, \n",
        "                                       output_dir = output_dir, **kwargs)\n",
        "        res = cls(tok, counter=load_pickle(output_dir/fn_counter_pkl),\n",
        "                  lengths=load_pickle(output_dir/fn_lengths_pkl),\n",
        "                  rules=rules, mode='folder')\n",
        "        res.path,res.output_dir = path,output_dir\n",
        "        return res\n",
        "\n",
        "\n",
        "class TextBlockOP(TextBlock):\n",
        "    \"Overriding TextBlock for user defined output dir\"\n",
        "    def __init__(self, tok_tfm, vocab=None, is_lm=False,\n",
        "                 seq_len=72, backwards=False, **kwargs):\n",
        "        super().__init__(tok_tfm, vocab=vocab, is_lm=is_lm,\n",
        "                 seq_len=seq_len, backwards=backwards, **kwargs)\n",
        "    @classmethod\n",
        "    @delegates(TokenizerOP.from_folder, keep=True)\n",
        "    def from_folder(cls, path, vocab=None, is_lm=False, seq_len=72,\n",
        "                    backwards=False, min_freq=3, max_vocab=60000,output_dir =None,\n",
        "                    **kwargs):\n",
        "        \"Build a `TextBlock` from a `path` - calls TokenizerOP and provides output_dir as input\"\n",
        "        return cls(TokenizerOP.from_folder(path, output_dir = output_dir, **kwargs), vocab=vocab, is_lm=is_lm, seq_len=seq_len,\n",
        "                   backwards=backwards, min_freq=min_freq, max_vocab=max_vocab)\n",
        "        \n",
        "class TextDataLoadersOP(TextDataLoaders):\n",
        "    \"Basic wrapper around several `DataLoader`s with factory methods for NLP problems\"\n",
        "    @classmethod\n",
        "    @delegates(DataLoaders.from_dblock)\n",
        "    def from_folder(cls, path, train='train', valid='valid', valid_pct=None,\n",
        "                    seed=None, vocab=None, text_vocab=None, is_lm=False,\n",
        "                    tok_tfm=None, seq_len=72, splitter=None,\n",
        "                    backwards=False, output_dir =None, **kwargs):\n",
        "        \"This is to override same method from TextDataLoaders to accept and pass output_dir as input\"\n",
        "        if splitter is None:\n",
        "            splitter = GrandparentSplitter(train_name=train,\n",
        "                                           valid_name=valid) if valid_pct is None else RandomSplitter(valid_pct,\n",
        "                                                                                                      seed=seed)\n",
        "        blocks = [TextBlockOP.from_folder(path, text_vocab, is_lm, seq_len, backwards,\n",
        "                                          tok=tok_tfm, output_dir = output_dir)]\n",
        "        if not is_lm: blocks.append(CategoryBlock(vocab=vocab))\n",
        "        get_items = partial(get_text_files, folders=[train,valid]) if valid_pct is None else get_text_files\n",
        "        dblock = DataBlock(blocks=blocks,\n",
        "                           get_items=get_items,\n",
        "                           splitter=splitter,\n",
        "                           get_y=None if is_lm else parent_label)\n",
        "        return cls.from_dblock(dblock, path, path=path, seq_len=seq_len, **kwargs)\n",
        "\n",
        "    @classmethod\n",
        "    @delegates(DataLoaders.from_dblock)\n",
        "    def from_df(cls, df, path='.', valid_pct=0.2, seed=None, text_col=0, label_col=1, label_delim=None, y_block=None,\n",
        "                text_vocab=None, is_lm=False, valid_col=None, tok_tfm=None, tok_text_col=\"text\", seq_len=72, backwards=False, **kwargs):\n",
        "        \"Create from `df` in `path` with `valid_pct`\"\n",
        "        blocks = [TextBlock.from_df(text_col, text_vocab, is_lm, seq_len, backwards, tok=tok_tfm)]\n",
        "        if y_block is None and not is_lm:\n",
        "            blocks.append(MultiCategoryBlock if is_listy(label_col) and len(label_col) > 1 else CategoryBlock)\n",
        "        if y_block is not None and not is_lm: blocks += (y_block if is_listy(y_block) else [y_block])\n",
        "        splitter = RandomSplitter(valid_pct, seed=seed) if valid_col is None else ColSplitter(valid_col)\n",
        "        dblock = DataBlock(blocks=blocks,\n",
        "                           get_x=ColReader(tok_text_col),\n",
        "                           get_y=None if is_lm else ColReader(label_col, label_delim=label_delim),\n",
        "                           splitter=splitter)\n",
        "        return cls.from_dblock(dblock, df, path=path, seq_len=seq_len, **kwargs)"
      ],
      "metadata": {
        "id": "4RXh78SccC1I"
      },
      "execution_count": 10,
      "outputs": []
    },
    {
      "cell_type": "code",
      "source": [
        "tok_path = model_save_path / 'train_tok'\n",
        "tok_path.mkdir(parents=True, exist_ok=True)\n",
        "dls_lm = TextDataLoaders.from_df(train_df, text_col='full_text', is_lm=True,\n",
        "                                       valid_pct=0.1, output_dir = tok_path)\n",
        "dls_lm.show_batch(max_n=5)"
      ],
      "metadata": {
        "colab": {
          "base_uri": "https://localhost:8080/",
          "height": 553
        },
        "id": "aA_Va9Zyc76g",
        "outputId": "fcd0bdf2-517a-4048-e5a3-08bdf5d99454"
      },
      "execution_count": 17,
      "outputs": [
        {
          "output_type": "display_data",
          "data": {
            "text/plain": [
              "<IPython.core.display.HTML object>"
            ],
            "text/html": [
              "\n",
              "<style>\n",
              "    /* Turns off some styling */\n",
              "    progress {\n",
              "        /* gets rid of default border in Firefox and Opera. */\n",
              "        border: none;\n",
              "        /* Needs to be in here for Safari polyfill so background images work as expected. */\n",
              "        background-size: auto;\n",
              "    }\n",
              "    progress:not([value]), progress:not([value])::-webkit-progress-bar {\n",
              "        background: repeating-linear-gradient(45deg, #7e7e7e, #7e7e7e 10px, #5c5c5c 10px, #5c5c5c 20px);\n",
              "    }\n",
              "    .progress-bar-interrupted, .progress-bar-interrupted::-webkit-progress-bar {\n",
              "        background: #F44336;\n",
              "    }\n",
              "</style>\n"
            ]
          },
          "metadata": {}
        },
        {
          "output_type": "display_data",
          "data": {
            "text/plain": [
              "<IPython.core.display.HTML object>"
            ],
            "text/html": []
          },
          "metadata": {}
        },
        {
          "output_type": "display_data",
          "data": {
            "text/plain": [
              "<IPython.core.display.HTML object>"
            ],
            "text/html": [
              "<table border=\"1\" class=\"dataframe\">\n",
              "  <thead>\n",
              "    <tr style=\"text-align: right;\">\n",
              "      <th></th>\n",
              "      <th>text</th>\n",
              "      <th>text_</th>\n",
              "    </tr>\n",
              "  </thead>\n",
              "  <tbody>\n",
              "    <tr>\n",
              "      <th>0</th>\n",
              "      <td>xxbos xxmaj the use of technology has a positive effects on people 's lives , it help us to get ready by doing our jobs faster , we do nt lose the much time in communicating , we do n't need to worry about losing paper work . \\n\\n xxmaj using technology makes our work easy and faster , it makes easy and fast by sending email , so that way some</td>\n",
              "      <td>xxmaj the use of technology has a positive effects on people 's lives , it help us to get ready by doing our jobs faster , we do nt lose the much time in communicating , we do n't need to worry about losing paper work . \\n\\n xxmaj using technology makes our work easy and faster , it makes easy and fast by sending email , so that way some important</td>\n",
              "    </tr>\n",
              "    <tr>\n",
              "      <th>1</th>\n",
              "      <td>just ca n't do it anymore , but students struggle with their own personal problems but they can get through it all and that is what makes the build - up self - confidence about the risk and task they make in life . xxbos xxmaj is enjoyable for everyone because you can do all sort of fun activities . xxmaj one way i like spending my time is playing soccer with</td>\n",
              "      <td>ca n't do it anymore , but students struggle with their own personal problems but they can get through it all and that is what makes the build - up self - confidence about the risk and task they make in life . xxbos xxmaj is enjoyable for everyone because you can do all sort of fun activities . xxmaj one way i like spending my time is playing soccer with all</td>\n",
              "    </tr>\n",
              "    <tr>\n",
              "      <th>2</th>\n",
              "      <td>to their career at a early age . \\n\\n xxmaj it is a great idea for students to commit to a career at a young age because student will know what type of courses are required for that particular career , students will not worried about what to do after graduation , and students will be able to develop some basic fundamentals skills needed for their future career . \\n\\n xxmaj initially</td>\n",
              "      <td>their career at a early age . \\n\\n xxmaj it is a great idea for students to commit to a career at a young age because student will know what type of courses are required for that particular career , students will not worried about what to do after graduation , and students will be able to develop some basic fundamentals skills needed for their future career . \\n\\n xxmaj initially ,</td>\n",
              "    </tr>\n",
              "    <tr>\n",
              "      <th>3</th>\n",
              "      <td>live with his parents no more . xxmaj this will help him to be responsible person because he has to take care of himself by his own . xxmaj another example can be , xxmaj in school , xxmaj students choose their classes for next year by themselves . xxmaj this will help them to develop their self confidence because they are deciding what is better for them or not by their</td>\n",
              "      <td>with his parents no more . xxmaj this will help him to be responsible person because he has to take care of himself by his own . xxmaj another example can be , xxmaj in school , xxmaj students choose their classes for next year by themselves . xxmaj this will help them to develop their self confidence because they are deciding what is better for them or not by their own</td>\n",
              "    </tr>\n",
              "    <tr>\n",
              "      <th>4</th>\n",
              "      <td>happy for him . xxmaj he did n't care if he is second or last . xxmaj he cares about his relative cheering for him . \\n\\n xxmaj conclusion , xxmaj failure plays in the pursuit of success . i believe failure helps people to find their a path to success . xxmaj people fail , but they can learn from their mistakes and it 's positively affects people personalty . xxmaj</td>\n",
              "      <td>for him . xxmaj he did n't care if he is second or last . xxmaj he cares about his relative cheering for him . \\n\\n xxmaj conclusion , xxmaj failure plays in the pursuit of success . i believe failure helps people to find their a path to success . xxmaj people fail , but they can learn from their mistakes and it 's positively affects people personalty . xxmaj such</td>\n",
              "    </tr>\n",
              "  </tbody>\n",
              "</table>"
            ]
          },
          "metadata": {}
        }
      ]
    },
    {
      "cell_type": "code",
      "source": [
        "# dump vocab that will be required for inference script\n",
        "with open(model_save_path / 'dls_lm_vocab.pickle', 'wb') as b:\n",
        "    pickle.dump(dls_lm.vocab,b)"
      ],
      "metadata": {
        "id": "YYlzCCH2gEUc"
      },
      "execution_count": 13,
      "outputs": []
    },
    {
      "cell_type": "code",
      "source": [
        "learn_lm = language_model_learner(dls_lm, AWD_LSTM, metrics=[accuracy, Perplexity()], path=path, wd=0.1).to_fp16()"
      ],
      "metadata": {
        "colab": {
          "base_uri": "https://localhost:8080/",
          "height": 37
        },
        "id": "2kElr1GrgpWM",
        "outputId": "efe17af1-f177-486d-eefe-4ac78ce8576f"
      },
      "execution_count": 14,
      "outputs": [
        {
          "output_type": "display_data",
          "data": {
            "text/plain": [
              "<IPython.core.display.HTML object>"
            ],
            "text/html": [
              "\n",
              "<style>\n",
              "    /* Turns off some styling */\n",
              "    progress {\n",
              "        /* gets rid of default border in Firefox and Opera. */\n",
              "        border: none;\n",
              "        /* Needs to be in here for Safari polyfill so background images work as expected. */\n",
              "        background-size: auto;\n",
              "    }\n",
              "    progress:not([value]), progress:not([value])::-webkit-progress-bar {\n",
              "        background: repeating-linear-gradient(45deg, #7e7e7e, #7e7e7e 10px, #5c5c5c 10px, #5c5c5c 20px);\n",
              "    }\n",
              "    .progress-bar-interrupted, .progress-bar-interrupted::-webkit-progress-bar {\n",
              "        background: #F44336;\n",
              "    }\n",
              "</style>\n"
            ]
          },
          "metadata": {}
        },
        {
          "output_type": "display_data",
          "data": {
            "text/plain": [
              "<IPython.core.display.HTML object>"
            ],
            "text/html": [
              "\n",
              "    <div>\n",
              "      <progress value='105070592' class='' max='105067061' style='width:300px; height:20px; vertical-align: middle;'></progress>\n",
              "      100.00% [105070592/105067061 00:01&lt;00:00]\n",
              "    </div>\n",
              "    "
            ]
          },
          "metadata": {}
        }
      ]
    },
    {
      "cell_type": "code",
      "source": [
        "learn_lm.fit_one_cycle(1, 1e-2)"
      ],
      "metadata": {
        "colab": {
          "base_uri": "https://localhost:8080/",
          "height": 81
        },
        "id": "_JW0CBFggx7g",
        "outputId": "f86e0544-c808-415f-b13a-1531f4b0b054"
      },
      "execution_count": 15,
      "outputs": [
        {
          "output_type": "display_data",
          "data": {
            "text/plain": [
              "<IPython.core.display.HTML object>"
            ],
            "text/html": [
              "\n",
              "<style>\n",
              "    /* Turns off some styling */\n",
              "    progress {\n",
              "        /* gets rid of default border in Firefox and Opera. */\n",
              "        border: none;\n",
              "        /* Needs to be in here for Safari polyfill so background images work as expected. */\n",
              "        background-size: auto;\n",
              "    }\n",
              "    progress:not([value]), progress:not([value])::-webkit-progress-bar {\n",
              "        background: repeating-linear-gradient(45deg, #7e7e7e, #7e7e7e 10px, #5c5c5c 10px, #5c5c5c 20px);\n",
              "    }\n",
              "    .progress-bar-interrupted, .progress-bar-interrupted::-webkit-progress-bar {\n",
              "        background: #F44336;\n",
              "    }\n",
              "</style>\n"
            ]
          },
          "metadata": {}
        },
        {
          "output_type": "display_data",
          "data": {
            "text/plain": [
              "<IPython.core.display.HTML object>"
            ],
            "text/html": [
              "<table border=\"1\" class=\"dataframe\">\n",
              "  <thead>\n",
              "    <tr style=\"text-align: left;\">\n",
              "      <th>epoch</th>\n",
              "      <th>train_loss</th>\n",
              "      <th>valid_loss</th>\n",
              "      <th>accuracy</th>\n",
              "      <th>perplexity</th>\n",
              "      <th>time</th>\n",
              "    </tr>\n",
              "  </thead>\n",
              "  <tbody>\n",
              "    <tr>\n",
              "      <td>0</td>\n",
              "      <td>3.906570</td>\n",
              "      <td>3.667725</td>\n",
              "      <td>0.277480</td>\n",
              "      <td>39.162693</td>\n",
              "      <td>01:19</td>\n",
              "    </tr>\n",
              "  </tbody>\n",
              "</table>"
            ]
          },
          "metadata": {}
        }
      ]
    },
    {
      "cell_type": "code",
      "source": [
        "learn_lm.unfreeze()\n",
        "learn_lm.fit_one_cycle(10, 1e-3)"
      ],
      "metadata": {
        "id": "8MlXOKdAg0yb"
      },
      "execution_count": null,
      "outputs": []
    },
    {
      "cell_type": "code",
      "source": [
        "model_save_path.mkdir(parents=True, exist_ok=True)\n",
        "if iskaggle:\n",
        "    # hack to save encoder in a writable location\n",
        "    learn_lm.path = model_save_path\n",
        "    learn_lm.save_encoder('finetuned_enc')\n",
        "    # learn_lm.save('finetuned_lm')\n",
        "else:\n",
        "    learn_lm.save_encoder(model_save_path / 'finetuned_enc')"
      ],
      "metadata": {
        "id": "5fwS2ZZAg3GE"
      },
      "execution_count": 16,
      "outputs": []
    },
    {
      "cell_type": "code",
      "source": [],
      "metadata": {
        "id": "8Nfi-R5ZhLCq"
      },
      "execution_count": null,
      "outputs": []
    }
  ]
}